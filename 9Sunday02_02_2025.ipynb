{
  "nbformat": 4,
  "nbformat_minor": 0,
  "metadata": {
    "colab": {
      "provenance": []
    },
    "kernelspec": {
      "name": "python3",
      "display_name": "Python 3"
    },
    "language_info": {
      "name": "python"
    }
  },
  "cells": [
    {
      "cell_type": "code",
      "execution_count": null,
      "metadata": {
        "id": "0sDHI9uK4BK9",
        "colab": {
          "base_uri": "https://localhost:8080/"
        },
        "outputId": "5a2c22ec-ebfd-4925-ca26-ac59d6b17b0e"
      },
      "outputs": [
        {
          "output_type": "stream",
          "name": "stdout",
          "text": [
            "Raja\n"
          ]
        }
      ],
      "source": [
        "Student=[\"Raja\",\"Dileep\"]\n",
        "student = {\"name\":\"Raja\",\"age\":\"22\",\"course\":\"agentic AI\"} # Removed leading spaces from this line\n",
        "print(student[\"name\"])\n"
      ]
    },
    {
      "cell_type": "code",
      "source": [
        "student = {\"name\":\"Raja\",\"age\":\"22\",\"course\":\"agentic AI\"}\n",
        "for key, value in student.items():\n",
        "  print(f\"key {key} and value {value}\")\n"
      ],
      "metadata": {
        "colab": {
          "base_uri": "https://localhost:8080/"
        },
        "id": "Ia_UjpHUasHI",
        "outputId": "b6dc11e5-b1a9-46f5-e5d1-3106423f7c83"
      },
      "execution_count": null,
      "outputs": [
        {
          "output_type": "stream",
          "name": "stdout",
          "text": [
            "key name and value Raja\n",
            "key age and value 22\n",
            "key course and value agentic AI\n"
          ]
        }
      ]
    },
    {
      "cell_type": "code",
      "source": [
        "# error handiling\n",
        "# Three types\n",
        "#1 abnormale termination\n",
        "#2 gress full termission\n",
        "#3 try except\n",
        "num:int=100\n",
        "num2:int=10\n",
        "#result=num/num2\n",
        "#print(result)\n",
        "\n",
        "try:\n",
        "    result=num/num2\n",
        "    print(result)\n",
        "except Exception as e:\n",
        "   print(e)"
      ],
      "metadata": {
        "colab": {
          "base_uri": "https://localhost:8080/"
        },
        "id": "L47P9-P0gNIx",
        "outputId": "2c3c0c84-e3c5-46ed-fc3a-b7fecb10a116"
      },
      "execution_count": null,
      "outputs": [
        {
          "output_type": "stream",
          "name": "stdout",
          "text": [
            "10.0\n"
          ]
        }
      ]
    },
    {
      "cell_type": "code",
      "source": [
        "# Zero division error\n",
        "# key error\n",
        "# intex error\n",
        "# value error\n",
        "# try error\n",
        "# import error\n"
      ],
      "metadata": {
        "id": "qUsaOilnj1MX"
      },
      "execution_count": null,
      "outputs": []
    },
    {
      "cell_type": "code",
      "source": [
        "list=[\"aLI\",\"Parveen\",\"Fatima\"]\n",
        "num:int=55\n",
        "num2:int=11\n",
        "try:\n",
        "    result=num/num2\n",
        "    print(result)\n",
        "except Exception as e:\n",
        "   print(e)\n",
        "   #\n",
        "try:\n",
        "    result=num/num2\n",
        "    print(result)\n",
        "except ZeroDivisionError:\n",
        "   print(\"this is error with index\")\n",
        "except ZeroDivisionError:\n",
        "   print(\"this is error with index\")\n",
        "except ZeroDivisionError:\n",
        "   print(\"this is error with index\")\n",
        "\n",
        "\n",
        "   # HOME WORK FOR STUDENTS\n",
        "   # USER_INPUT=INPUT(\"ENTER YOUR NUMBER\")"
      ],
      "metadata": {
        "id": "KpkfuLmGkU_b",
        "colab": {
          "base_uri": "https://localhost:8080/"
        },
        "outputId": "dccbb788-d1b0-4b07-b46a-bb28434d6d03"
      },
      "execution_count": null,
      "outputs": [
        {
          "output_type": "stream",
          "name": "stdout",
          "text": [
            "5.0\n",
            "5.0\n"
          ]
        }
      ]
    },
    {
      "cell_type": "code",
      "source": [
        "num=int(input(\"enter your value\"))\n",
        "for i in range(1,11):\n",
        "  print(f\"{num}*{i}={num*i}\")\n",
        "  try:\n",
        "    num=num/i\n",
        "    print(num)\n",
        "  except Exception as num:\n",
        "    print(\"Enter the valid valu\"(num))\n"
      ],
      "metadata": {
        "colab": {
          "base_uri": "https://localhost:8080/"
        },
        "id": "f6RX1gP1vA1_",
        "outputId": "a91b7229-6b89-49bd-a8e7-fb3bc27f5e3d"
      },
      "execution_count": null,
      "outputs": [
        {
          "output_type": "stream",
          "name": "stderr",
          "text": [
            "<>:8: SyntaxWarning: 'str' object is not callable; perhaps you missed a comma?\n",
            "<>:8: SyntaxWarning: 'str' object is not callable; perhaps you missed a comma?\n"
          ]
        },
        {
          "output_type": "stream",
          "name": "stdout",
          "text": [
            "enter your value10\n",
            "10*1=10\n",
            "10.0\n",
            "10.0*2=20.0\n",
            "5.0\n",
            "5.0*3=15.0\n",
            "1.6666666666666667\n",
            "1.6666666666666667*4=6.666666666666667\n",
            "0.4166666666666667\n",
            "0.4166666666666667*5=2.0833333333333335\n",
            "0.08333333333333334\n",
            "0.08333333333333334*6=0.5\n",
            "0.01388888888888889\n",
            "0.01388888888888889*7=0.09722222222222222\n",
            "0.0019841269841269845\n",
            "0.0019841269841269845*8=0.015873015873015876\n",
            "0.00024801587301587306\n",
            "0.00024801587301587306*9=0.0022321428571428575\n",
            "2.7557319223985896e-05\n",
            "2.7557319223985896e-05*10=0.00027557319223985895\n",
            "2.7557319223985897e-06\n"
          ]
        },
        {
          "output_type": "stream",
          "name": "stderr",
          "text": [
            "<ipython-input-2-8ab8d66a2497>:8: SyntaxWarning: 'str' object is not callable; perhaps you missed a comma?\n",
            "  print(\"Enter the valid valu\"(num))\n"
          ]
        }
      ]
    },
    {
      "cell_type": "code",
      "source": [
        "# 1\n",
        "num1=int(input(\"enter your value\"))\n",
        "num2=int(input(\"enter your value\"))\n",
        "print(num1+num2)"
      ],
      "metadata": {
        "colab": {
          "base_uri": "https://localhost:8080/"
        },
        "id": "nuaatjm1EGua",
        "outputId": "cf69ef65-341c-46af-de56-257f19f69f5c"
      },
      "execution_count": null,
      "outputs": [
        {
          "output_type": "stream",
          "name": "stdout",
          "text": [
            "enter your value10\n",
            "enter your value20\n",
            "30\n"
          ]
        }
      ]
    },
    {
      "cell_type": "code",
      "source": [
        "# 2\n",
        "print(\"Enter num 1\")\n",
        "num1=int(input())\n",
        "print(\"Enter num 2\")\n",
        "num2=int(input())\n",
        "print(num1+num2)"
      ],
      "metadata": {
        "colab": {
          "base_uri": "https://localhost:8080/"
        },
        "id": "42PqyQA_E7y2",
        "outputId": "5b916deb-20bb-4917-a9af-3b03a0edec01"
      },
      "execution_count": null,
      "outputs": [
        {
          "output_type": "stream",
          "name": "stdout",
          "text": [
            "Enter num 1\n",
            "45\n",
            "Enter num 2\n",
            "55\n",
            "100\n"
          ]
        }
      ]
    },
    {
      "cell_type": "code",
      "source": [
        "# 3\n",
        "print(\"Enter num 1\")\n",
        "num1=input()\n",
        "print(\"Enter num 2\")\n",
        "num2=input()\n",
        "try:\n",
        "  print(\"The sum of these two numers is\",\n",
        "        int(num1)+int(num2))\n",
        "except Exception as e:\n",
        "    print(e)\n",
        "    print(\"This is very important\")\n"
      ],
      "metadata": {
        "colab": {
          "base_uri": "https://localhost:8080/"
        },
        "id": "qKy6_ttCGNt3",
        "outputId": "3599a701-cc78-42e3-9413-7567a18a354a"
      },
      "execution_count": null,
      "outputs": [
        {
          "output_type": "stream",
          "name": "stdout",
          "text": [
            "Enter num 1\n",
            "23\n",
            "Enter num 2\n",
            "25\n",
            "The sum of these two numers is 48\n"
          ]
        }
      ]
    },
    {
      "cell_type": "code",
      "source": [
        "try:\n",
        "    num = int(input(\"Enter a Number: \"))\n",
        "    print(f\"You Entered: {num}\\n\")\n",
        "\n",
        "    print(f\"Multiplication Table of {num}:\\n\")\n",
        "    for i in range(1, 21):\n",
        "        print(f\"{num} x {i} = {num * i}\")\n",
        "\n",
        "except ValueError:\n",
        "    print(\"Invalid Input! Please Enter a Valid Number.\")"
      ],
      "metadata": {
        "colab": {
          "base_uri": "https://localhost:8080/"
        },
        "id": "Klmwa3M3Q8K-",
        "outputId": "9f2771f7-ce36-492b-b216-9b876a4a265a"
      },
      "execution_count": null,
      "outputs": [
        {
          "output_type": "stream",
          "name": "stdout",
          "text": [
            "Enter a Number: 77\n",
            "You Entered: 77\n",
            "\n",
            "Multiplication Table of 77:\n",
            "\n",
            "77 x 1 = 77\n",
            "77 x 2 = 154\n",
            "77 x 3 = 231\n",
            "77 x 4 = 308\n",
            "77 x 5 = 385\n",
            "77 x 6 = 462\n",
            "77 x 7 = 539\n",
            "77 x 8 = 616\n",
            "77 x 9 = 693\n",
            "77 x 10 = 770\n",
            "77 x 11 = 847\n",
            "77 x 12 = 924\n",
            "77 x 13 = 1001\n",
            "77 x 14 = 1078\n",
            "77 x 15 = 1155\n",
            "77 x 16 = 1232\n",
            "77 x 17 = 1309\n",
            "77 x 18 = 1386\n",
            "77 x 19 = 1463\n",
            "77 x 20 = 1540\n"
          ]
        }
      ]
    },
    {
      "cell_type": "code",
      "source": [
        "try:\n",
        "    num = int(input(\"Enter a Number: \"))\n",
        "    print(f\"You Entered: {num}\\n\")\n",
        "\n",
        "    print(f\"Multiplication Table of {num}:\\n\")\n",
        "    for i in range(1, 21):\n",
        "        print(f\"{num} x {i} = {num * i}\")\n",
        "\n",
        "except ValueError:\n",
        "    print(\"Invalid Input! Please Enter a Valid Number.\")"
      ],
      "metadata": {
        "colab": {
          "base_uri": "https://localhost:8080/"
        },
        "id": "v3hNrbFvRVAi",
        "outputId": "807f2dcd-a62f-44e2-b60b-89135ba1c060"
      },
      "execution_count": null,
      "outputs": [
        {
          "output_type": "stream",
          "name": "stdout",
          "text": [
            "Enter a Number: 500\n",
            "You Entered: 500\n",
            "\n",
            "Multiplication Table of 500:\n",
            "\n",
            "500 x 1 = 500\n",
            "500 x 2 = 1000\n",
            "500 x 3 = 1500\n",
            "500 x 4 = 2000\n",
            "500 x 5 = 2500\n",
            "500 x 6 = 3000\n",
            "500 x 7 = 3500\n",
            "500 x 8 = 4000\n",
            "500 x 9 = 4500\n",
            "500 x 10 = 5000\n",
            "500 x 11 = 5500\n",
            "500 x 12 = 6000\n",
            "500 x 13 = 6500\n",
            "500 x 14 = 7000\n",
            "500 x 15 = 7500\n",
            "500 x 16 = 8000\n",
            "500 x 17 = 8500\n",
            "500 x 18 = 9000\n",
            "500 x 19 = 9500\n",
            "500 x 20 = 10000\n"
          ]
        }
      ]
    },
    {
      "cell_type": "code",
      "source": [
        "list1=[\"Ali\",\"Parveen\",\"Fatima\"]\n",
        "list2=[\"Devdas\",\"Sana\",\"Sooraj\",\"Chandar\",\"Heer\"]\n",
        "x=list1\n",
        "y=list2\n",
        "z=list1+list2\n",
        "print(x,y)\n",
        "print(\" \".join(x)),print(\" \".join(y))\n",
        "print(\" \".join(z))"
      ],
      "metadata": {
        "colab": {
          "base_uri": "https://localhost:8080/"
        },
        "id": "6dFR435RAO96",
        "outputId": "bac8e7bf-4737-4ebc-faa6-f367e8064e8e"
      },
      "execution_count": null,
      "outputs": [
        {
          "output_type": "stream",
          "name": "stdout",
          "text": [
            "['Ali', 'Parveen', 'Fatima'] ['Devdas', 'Sana', 'Sooraj', 'Chandar', 'Heer']\n",
            "Ali Parveen Fatima\n",
            "Devdas Sana Sooraj Chandar Heer\n",
            "Ali Parveen Fatima Devdas Sana Sooraj Chandar Heer\n"
          ]
        }
      ]
    },
    {
      "cell_type": "code",
      "source": [
        "mylist = iter([\"apple\", \"banana\", \"cherry\"])\n",
        "x = next(mylist)\n",
        "print(x)\n",
        "\n",
        "\n"
      ],
      "metadata": {
        "colab": {
          "base_uri": "https://localhost:8080/"
        },
        "id": "OwMixKndCbjF",
        "outputId": "4803d416-dbd7-44a2-82ba-fd9a073f84cd"
      },
      "execution_count": null,
      "outputs": [
        {
          "output_type": "stream",
          "name": "stdout",
          "text": [
            "apple\n"
          ]
        }
      ]
    },
    {
      "cell_type": "code",
      "source": [
        "mylist = iter([\"apple\", \"banana\", \"cherry\"])\n",
        "x = next(mylist, \"orange\")\n",
        "print(x)\n",
        "x = next(mylist, \"orange\")\n",
        "print(x)\n",
        "x = next(mylist, \"orange\")\n",
        "print(x)\n",
        "x = next(mylist, \"orange\")\n",
        "print(x)\n"
      ],
      "metadata": {
        "colab": {
          "base_uri": "https://localhost:8080/"
        },
        "id": "1Rp7HjiHDoAl",
        "outputId": "9f706960-92d2-40f1-c92d-ae12f19b07ce"
      },
      "execution_count": null,
      "outputs": [
        {
          "output_type": "stream",
          "name": "stdout",
          "text": [
            "apple\n",
            "banana\n",
            "cherry\n",
            "orange\n"
          ]
        }
      ]
    },
    {
      "cell_type": "code",
      "source": [
        "# try: # home works\n",
        "#     user_inp = int(input(\"please enter a number :\\t\"))\n",
        "\n",
        "#     for i in range(1 , 11):\n",
        "#         print(f\"{user_inp} * {i} = {user_inp *i}\")\n",
        "#     num = i/user_inp\n",
        "#     print(num)\n",
        "# except Exception as e:\n",
        "#     print(f\"your input is invalid or {e}\\n\")\n",
        "\n",
        "def cal():\n",
        "    user_input1 = int(input(\"\\nplease  Enter 1st number:\\t\"))\n",
        "    user_input2 = int(input(\"\\nplease  Enter 2nd number:\\t\"))\n",
        "    user_opr = (input(\"\\nplease  Enter Your operation:\\n+ , - , * , / :\\t\"))\n",
        "    add = \"add\"\n",
        "    sub = \"subtraction\"\n",
        "    mult = \"multiplication\"\n",
        "    div = \"division\"\n",
        "\n",
        "    if(user_opr ==add or user_opr ==  \"+\" or  user_opr == \"add\".capitalize() or  user_opr == \"add\".upper() or  user_opr == \"addition\".capitalize() or user_opr ==\"addition\".upper() ):\n",
        "        result == user_input1 + user_input2\n",
        "        print(f\"Your final Result is :{result}\")\n",
        "\n",
        "    elif(user_opr ==sub or user_opr ==  \"-\" or  user_opr == \"sub\".capitalize() or user_opr ==\"subtraction\".upper() ):\n",
        "        result = user_input1 - user_input2\n",
        "        print(f\"Your final Result is :{result}\")\n",
        "\n",
        "    elif(user_opr ==mult or user_opr ==  \"*\" or  user_opr == \"multiplication\".capitalize() or  user_opr == \"multiply\" or  user_opr == \"multiply\". upper() or  user_opr == \"multipli\".capitalize() or  user_opr == \"multiply\".lower() or user_opr ==\"multiplication\".upper() ):\n",
        "        result = user_input1 * user_input2\n",
        "        print(f\"Your final Result is :{result}\")\n",
        "\n",
        "    elif(user_opr ==div or user_opr ==  \"/\" or  user_opr == \"division\".capitalize() or user_opr ==\"division\".upper() or user_opr == \"Divide\" or user_opr == \"Divide\".upper()  or user_opr == \"Divide\".lower() ):\n",
        "        result = user_input1 / user_input2\n",
        "        print(f\"Your final Result is :{result}\")\n",
        "try:\n",
        "    cal()\n",
        "\n",
        "except Exception as e:\n",
        "    print(f\" There is an error such as \\t{e} \\n\")\n",
        "\n"
      ],
      "metadata": {
        "colab": {
          "base_uri": "https://localhost:8080/"
        },
        "id": "u50dRBtwky7_",
        "outputId": "fb833a99-4c64-416d-f8e0-1764227d928b"
      },
      "execution_count": null,
      "outputs": [
        {
          "output_type": "stream",
          "name": "stdout",
          "text": [
            "\n",
            "please  Enter 1st number:\t15\n",
            "\n",
            "please  Enter 2nd number:\t13\n",
            "\n",
            "please  Enter Your operation:\n",
            "+ , - , * , / :\t+\n",
            " There is an error such as \tcannot access local variable 'result' where it is not associated with a value \n",
            "\n"
          ]
        }
      ]
    },
    {
      "cell_type": "code",
      "source": [
        "try:\n",
        "  k1=(input(\"Enter a Table:\"))\n",
        "  print(k1)\n",
        "  for i in range (1,11):\n",
        "    print(f\"11*{i}={11*i}\")\n",
        "except Exception as Valuerror:\n",
        "  print(\"Valuerror\")"
      ],
      "metadata": {
        "colab": {
          "base_uri": "https://localhost:8080/"
        },
        "id": "FOao-UeL_2M5",
        "outputId": "f2b0a0b7-794e-4533-9996-13bf6452b938"
      },
      "execution_count": null,
      "outputs": [
        {
          "output_type": "stream",
          "name": "stdout",
          "text": [
            "Enter a Table:11\n",
            "11\n",
            "11*1=11\n",
            "11*2=22\n",
            "11*3=33\n",
            "11*4=44\n",
            "11*5=55\n",
            "11*6=66\n",
            "11*7=77\n",
            "11*8=88\n",
            "11*9=99\n",
            "11*10=110\n"
          ]
        }
      ]
    },
    {
      "cell_type": "code",
      "source": [
        "# try: # home work2\n",
        "#     user_inp = int(input(\"please enter a number :\\t\"))\n",
        "\n",
        "#     for i in range(1 , 11):\n",
        "#         print(f\"{user_inp} * {i} = {user_inp *i}\")\n",
        "#     num = i/user_inp\n",
        "#     print(num)\n",
        "# except Exception as e:\n",
        "#     print(f\"your input is invalid or {e}\\n\")\n",
        "\n",
        "def cal():\n",
        "    user_input1 = int(input(\"\\nplease  Enter 1st number:\\t\"))\n",
        "    user_input2 = int(input(\"\\nplease  Enter 2nd number:\\t\"))\n",
        "    user_opr = (input(\"\\nplease  Enter Your operation:= \\n + , - , * , / :\\t\"))\n",
        "    add =   \"add\"\n",
        "    sub = \"subtraction\"\n",
        "    mult = \"multiplication\"\n",
        "    div = \"division\"\n",
        "\n",
        "\n",
        "    if(user_opr ==sub or user_opr ==  \"-\" or  user_opr == \"sub\".capitalize() or user_opr ==\"subtraction\".upper() or  user_opr == \"subtraction\".capitalize() or user_opr ==\"subtraction\".upper() ):\n",
        "        result = user_input1 - user_input2\n",
        "        print(f\"Your final Result is :{result}\")\n",
        "    elif(user_opr ==add or user_opr ==  \"+\" or  user_opr == \"add\".capitalize() or  user_opr == \"add\".upper() or  user_opr == \"addition\".capitalize() or user_opr ==\"addition\".upper() ):\n",
        "        result == user_input1 + user_input2\n",
        "        print(f\"Your final Result is :{result}\")\n",
        "\n",
        "\n",
        "    elif(user_opr ==mult or user_opr ==  \"*\" or  user_opr == \"multiplication\".capitalize() or  user_opr == \"multiply\" or  user_opr == \"multiply\". upper() or  user_opr == \"multipli\".capitalize() or  user_opr == \"multiply\".lower() or user_opr ==\"multiplication\".upper() ):\n",
        "        result = user_input1 * user_input2\n",
        "        print(f\"Your final Result is :{result}\")\n",
        "\n",
        "    elif(user_opr ==div or user_opr ==  \"/\" or  user_opr == \"division\".capitalize() or user_opr ==\"division\".upper() or user_opr == \"Divide\" or user_opr == \"Divide\".upper()  or user_opr == \"Divide\".lower() ):\n",
        "        result = user_input1 / user_input2\n",
        "        print(f\"Your final Result is :{result}\")\n",
        "try:\n",
        "    cal()\n",
        "\n",
        "except Exception as e:\n",
        "    print(f\" There is an error such as \\t{e} \\n\")\n",
        "\n"
      ],
      "metadata": {
        "colab": {
          "base_uri": "https://localhost:8080/"
        },
        "id": "eMeamZNAwiQV",
        "outputId": "cddfad97-4e89-4154-ec4d-e8b95f6d02fd"
      },
      "execution_count": null,
      "outputs": [
        {
          "output_type": "stream",
          "name": "stdout",
          "text": [
            "\n",
            "please  Enter 1st number:\t15\n",
            "\n",
            "please  Enter 2nd number:\t15\n",
            "\n",
            "please  Enter Your operation:= \n",
            " + , - , * , / :\t+\n",
            " There is an error such as \tcannot access local variable 'result' where it is not associated with a value \n",
            "\n"
          ]
        }
      ]
    },
    {
      "cell_type": "code",
      "source": [
        "# final\n",
        "def cal():\n",
        "    try:\n",
        "        user_input1 = int(input(\"\\nPlease enter the 1st number:\\t\"))\n",
        "        user_input2 = int(input(\"\\nPlease enter the 2nd number:\\t\"))\n",
        "        user_opr = input(\"\\nPlease enter your operation (+, -, *, /):\\t\").strip().lower()\n",
        "\n",
        "        if user_opr in [\"-\", \"subtraction\", \"sub\"]:\n",
        "            result = user_input1 - user_input2\n",
        "            print(f\"Your final result is: {result}\")\n",
        "        elif user_opr in [\"+\", \"addition\", \"add\"]:\n",
        "            result = user_input1 + user_input2\n",
        "            print(f\"Your final result is: {result}\")\n",
        "        elif user_opr in [\"*\", \"multiplication\", \"multiply\"]:\n",
        "            result = user_input1 * user_input2\n",
        "            print(f\"Your final result is: {result}\")\n",
        "        elif user_opr in [\"/\", \"division\", \"divide\"]:\n",
        "            if user_input2 == 0:\n",
        "                print(\"Error: Division by zero is not allowed.\")\n",
        "            else:\n",
        "                result = user_input1 / user_input2\n",
        "                print(f\"Your final result is: {result}\")\n",
        "        else:\n",
        "            print(\"Invalid operation. Please enter +, -, *, or /.\")\n",
        "\n",
        "    except ValueError:\n",
        "        print(\"Invalid input! Please enter numbers only.\")\n",
        "    except Exception as e:\n",
        "        print(f\"An error occurred: {e}\")\n",
        "\n",
        "\n",
        "# Run the calculator function\n",
        "cal()"
      ],
      "metadata": {
        "colab": {
          "base_uri": "https://localhost:8080/"
        },
        "id": "IWK9XIDgvryk",
        "outputId": "a92f4eb6-7d53-4b70-99f3-14d5d5cfbe71"
      },
      "execution_count": null,
      "outputs": [
        {
          "output_type": "stream",
          "name": "stdout",
          "text": [
            "\n",
            "Please enter the 1st number:\t30\n",
            "\n",
            "Please enter the 2nd number:\t15\n",
            "\n",
            "Please enter your operation (+, -, *, /):\t/\n",
            "Your final result is: 2.0\n"
          ]
        }
      ]
    },
    {
      "cell_type": "code",
      "source": [
        "# filter in python\n",
        "def is_even(n):\n",
        "  return n%2 == 0\n",
        "\n",
        "nums=[1,2,3,4,5,6,7,8,9,10]\n",
        "even_num= filter(is_even,nums)\n",
        "print(list(even_num))\n",
        "\n"
      ],
      "metadata": {
        "colab": {
          "base_uri": "https://localhost:8080/"
        },
        "id": "WCLeknzi-Q--",
        "outputId": "9a2b7602-3bf2-41fc-f7eb-1784e30773a9"
      },
      "execution_count": null,
      "outputs": [
        {
          "output_type": "stream",
          "name": "stdout",
          "text": [
            "[2, 4, 6, 8, 10]\n"
          ]
        }
      ]
    },
    {
      "cell_type": "code",
      "source": [
        "# filter in python odd\n",
        "def is_odd(n):\n",
        "  return n%2 == 0\n",
        "\n",
        "nums=[1,2,3,4,5,6,7,8,9,10]\n",
        "odd_num= filter(is_odd,nums)\n",
        "print(list(odd_num))\n"
      ],
      "metadata": {
        "colab": {
          "base_uri": "https://localhost:8080/"
        },
        "id": "emDFEi-9DiTQ",
        "outputId": "a8e740bf-9133-411c-b9f4-2b4de2480414"
      },
      "execution_count": null,
      "outputs": [
        {
          "output_type": "stream",
          "name": "stdout",
          "text": [
            "[2, 4, 6, 8, 10]\n"
          ]
        }
      ]
    },
    {
      "cell_type": "code",
      "source": [
        "number=int(input(\"enter a number\"))\n",
        "\n",
        "if number%2 == 0:\n",
        "    print(\"even\")\n",
        "else:\n",
        "    print(\"odd\")"
      ],
      "metadata": {
        "colab": {
          "base_uri": "https://localhost:8080/"
        },
        "id": "Y6veVBaFIefh",
        "outputId": "663d0a5d-ca44-4c4d-e62c-364d550bf88f"
      },
      "execution_count": null,
      "outputs": [
        {
          "output_type": "stream",
          "name": "stdout",
          "text": [
            "enter a number23\n",
            "odd\n"
          ]
        }
      ]
    },
    {
      "cell_type": "code",
      "source": [
        "def num(n):\n",
        "    if n%2 == 0:\n",
        "        print(n, \"is a EVEN number\")\n",
        "    else:\n",
        "        print(n, \"is a ODD number\")\n",
        "num(78)"
      ],
      "metadata": {
        "colab": {
          "base_uri": "https://localhost:8080/"
        },
        "id": "e_Ivl0Z7E8IV",
        "outputId": "30c8a93f-57fa-48c7-ead1-07beb378a139"
      },
      "execution_count": null,
      "outputs": [
        {
          "output_type": "stream",
          "name": "stdout",
          "text": [
            "78 is a EVEN number\n"
          ]
        }
      ]
    },
    {
      "cell_type": "code",
      "source": [
        "num1 = int(input(\"Enter a First number: \"))\n",
        "num2 = int(input(\"Enter a second number: \"))\n",
        "operation = input(\"Enter your operaton: \\n'addition'\\n'subtract'\\n'multiply'\\n'divide':\\n \")\n",
        "\n",
        "def calculator(num1, num2, opeartion):\n",
        "    if operation == 'addition':\n",
        "        return num1 + num2\n",
        "    elif operation == 'subtract':\n",
        "        return num1 - num2\n",
        "    elif operation == 'multiply':\n",
        "        return num1 * num2\n",
        "    elif operation == 'divide':\n",
        "        return num1 / num2\n",
        "    else:\n",
        "        return \"Invalid Operation\"\n",
        "print(calculator(num1, num2, operation))"
      ],
      "metadata": {
        "colab": {
          "base_uri": "https://localhost:8080/"
        },
        "id": "DJB3bINcAtxu",
        "outputId": "7bf04768-1dec-4245-ed96-9976dec94fdf"
      },
      "execution_count": null,
      "outputs": [
        {
          "output_type": "stream",
          "name": "stdout",
          "text": [
            "Enter a First number: 15\n",
            "Enter a second number: 15\n",
            "Enter your operaton: \n",
            "'addition'\n",
            "'subtract'\n",
            "'multiply'\n",
            "'divide':\n",
            " addition\n",
            "30\n"
          ]
        }
      ]
    }
  ]
}