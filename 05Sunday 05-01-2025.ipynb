{
  "nbformat": 4,
  "nbformat_minor": 0,
  "metadata": {
    "colab": {
      "provenance": []
    },
    "kernelspec": {
      "name": "python3",
      "display_name": "Python 3"
    },
    "language_info": {
      "name": "python"
    }
  },
  "cells": [
    {
      "cell_type": "code",
      "execution_count": null,
      "metadata": {
        "id": "0MpRVFMVud3x",
        "colab": {
          "base_uri": "https://localhost:8080/"
        },
        "outputId": "9ca7549e-dc5e-4f31-8cad-7d45595aac94"
      },
      "outputs": [
        {
          "output_type": "stream",
          "name": "stdout",
          "text": [
            "Hi\n",
            "condition is true\n"
          ]
        }
      ],
      "source": [
        "print(\"Hi\")\n",
        "# condition Truse/Flase\n",
        "if True:\n",
        "# if False:\n",
        "  print(\"condition is true\")\n",
        "else:\n",
        "  print(\"condition is False\")\n",
        "\n"
      ]
    },
    {
      "cell_type": "code",
      "source": [],
      "metadata": {
        "id": "HZLM1JAPHiIY"
      },
      "execution_count": null,
      "outputs": []
    },
    {
      "cell_type": "code",
      "source": [],
      "metadata": {
        "id": "uCJpZDiYHxAV"
      },
      "execution_count": null,
      "outputs": []
    },
    {
      "cell_type": "code",
      "source": [
        "#comparison operators True/Flase\n",
        "num:int=10\n",
        "\n",
        "print(num< 10)\n"
      ],
      "metadata": {
        "colab": {
          "base_uri": "https://localhost:8080/"
        },
        "id": "YyCR0uM17y2_",
        "outputId": "c8ee02ee-26b4-409a-fbc4-a5e4c34df15b"
      },
      "execution_count": null,
      "outputs": [
        {
          "output_type": "stream",
          "name": "stdout",
          "text": [
            "False\n"
          ]
        }
      ]
    },
    {
      "cell_type": "code",
      "source": [
        "num:int=100\n",
        "\n",
        "print(num> 0 and num< 100)\n"
      ],
      "metadata": {
        "colab": {
          "base_uri": "https://localhost:8080/"
        },
        "id": "M6mgkJKt8nRo",
        "outputId": "4afa8dec-0643-4ca3-cd02-5399580f5a10"
      },
      "execution_count": null,
      "outputs": [
        {
          "output_type": "stream",
          "name": "stdout",
          "text": [
            "False\n"
          ]
        }
      ]
    },
    {
      "cell_type": "code",
      "source": [
        "name:str=\"Sir Sohaib\"\n",
        "\n",
        "if name==\"Sir Sohaib\":\n",
        "    print(\"Welcome Sir Sohaib\")\n",
        "else:\n",
        "    print(\"App Kon\")"
      ],
      "metadata": {
        "colab": {
          "base_uri": "https://localhost:8080/"
        },
        "id": "43q974EY_2pX",
        "outputId": "3a3a6bca-c34e-4c59-e421-f6bfd73b4343"
      },
      "execution_count": null,
      "outputs": [
        {
          "output_type": "stream",
          "name": "stdout",
          "text": [
            "Welcome Sir Sohaib\n"
          ]
        }
      ]
    },
    {
      "cell_type": "code",
      "source": [
        "time_of_day: str=\"Morning\"\n",
        "if time_of_day==\"Morning\":\n",
        "  print(\"Good Afternoon\")\n",
        "elif time_of_day==\"morning\":\n",
        "  print(\"Good Morning\")\n",
        "else:\n",
        "  print(\"Good Night\")"
      ],
      "metadata": {
        "colab": {
          "base_uri": "https://localhost:8080/"
        },
        "id": "JzSUgYLlCTJv",
        "outputId": "4ee2aa32-dab8-4903-f7e2-e249cc15c14e"
      },
      "execution_count": null,
      "outputs": [
        {
          "output_type": "stream",
          "name": "stdout",
          "text": [
            "Good Afternoon\n"
          ]
        }
      ]
    },
    {
      "cell_type": "code",
      "source": [
        "sector:str=\"Government\"\n",
        "if sector==\"Government\":\n",
        "  print(\"NGOs\")\n",
        "elif sector==\"Government\":\n",
        "  print(\"Government\")\n",
        "else:\n",
        "  print(\"Private\")"
      ],
      "metadata": {
        "colab": {
          "base_uri": "https://localhost:8080/"
        },
        "id": "Ili1Ld5bH2Lm",
        "outputId": "5a2c90e5-4ad5-468d-fe1a-f5e3af1b27b2"
      },
      "execution_count": null,
      "outputs": [
        {
          "output_type": "stream",
          "name": "stdout",
          "text": [
            "NGOs\n"
          ]
        }
      ]
    },
    {
      "cell_type": "code",
      "source": [
        "name=\"Sir Ali\"\n",
        "numbers:list[int]=[0,1,2]\n",
        "# index 0 1 2 3,\n",
        "namesA=[\"Sir Aneeq\", \"Sir Sohaib\",\"Sir Sami\"]\n",
        "print(namesA[1])\n",
        "print(namesA)"
      ],
      "metadata": {
        "colab": {
          "base_uri": "https://localhost:8080/"
        },
        "id": "nqIAzuuNK8gt",
        "outputId": "349a21a4-ad8c-4bd4-ec78-607002a204aa"
      },
      "execution_count": null,
      "outputs": [
        {
          "output_type": "stream",
          "name": "stdout",
          "text": [
            "Sir Sohaib\n",
            "['Sir Aneeq', 'Sir Sohaib', 'Sir Sami']\n"
          ]
        }
      ]
    },
    {
      "cell_type": "code",
      "source": [
        "name=\"Sir Ali\"\n",
        "numbers:list[int]=[0,1,2,3,4,5,6,7,8,9,10]\n",
        "# index 0 1 2 3,4,5,6,7,8,9,10\n",
        "names=[\"Sir Aneeq\", \"Sir Sohaib\",\"Sir Sami\",\"Rabeel\",\"Paras\"]\n",
        "print(names[0])\n",
        "print(names[1],names[1])\n",
        "print(names)\n",
        "print(numbers[10],numbers[7])\n",
        "print(numbers)"
      ],
      "metadata": {
        "colab": {
          "base_uri": "https://localhost:8080/"
        },
        "id": "uob7qd92Qe2z",
        "outputId": "ac765d43-c3a3-4ff0-f87b-cc2bd74d15fb"
      },
      "execution_count": null,
      "outputs": [
        {
          "output_type": "stream",
          "name": "stdout",
          "text": [
            "Sir Aneeq\n",
            "Sir Sohaib Sir Sohaib\n",
            "['Sir Aneeq', 'Sir Sohaib', 'Sir Sami', 'Rabeel', 'Paras']\n",
            "10 7\n",
            "[0, 1, 2, 3, 4, 5, 6, 7, 8, 9, 10]\n"
          ]
        }
      ]
    },
    {
      "cell_type": "code",
      "source": [
        "#print (range(0,5)\n",
        "range(0,5)\n",
        "#stratin point\n",
        "# condtion\n",
        "# increment\n",
        "numbers:list[int]=[1,2,3,4,5]\n",
        "#print(numbers[0])\n",
        "#print(numbers[1])\n",
        "#print(numbers[2])\n",
        "#print(numbers[3])\n",
        "#print (range(0,5)\n",
        "range(0,5)\n",
        "#stratin point\n",
        "# condtion\n",
        "# increment\n",
        "numbers:list[int]=[1,2,3,4,5]\n",
        "names=[\"grapes\",\"orange\"]\n",
        "#print(numbers[0])\n",
        "#print(numbers[1])\n",
        "#print(numbers[2])\n",
        "#print(numbers[3])\n",
        "#for variable in iterable:\n",
        "for num in numbers:\n",
        "  print(\"num is\", num)\n",
        "  print(\"names are\",names)\n",
        "\n",
        "\n",
        "\n"
      ],
      "metadata": {
        "id": "XItU2HCEOF4V",
        "colab": {
          "base_uri": "https://localhost:8080/"
        },
        "outputId": "ced244aa-6724-42c3-8560-cbef8f4f9a98"
      },
      "execution_count": null,
      "outputs": [
        {
          "output_type": "stream",
          "name": "stdout",
          "text": [
            "num is 1\n",
            "names are ['grapes', 'orange']\n",
            "num is 2\n",
            "names are ['grapes', 'orange']\n",
            "num is 3\n",
            "names are ['grapes', 'orange']\n",
            "num is 4\n",
            "names are ['grapes', 'orange']\n",
            "num is 5\n",
            "names are ['grapes', 'orange']\n"
          ]
        }
      ]
    },
    {
      "cell_type": "code",
      "source": [
        "rollNo=int(input(\"Enter Roll No\"))\n",
        "name=input(\"Enter Name:\")\n",
        "gender=input(\"Enter Gender\")\n",
        "age=int(input(\"Enter Age\"))\n",
        "standard=int(input(\"Enter Class\"))\n",
        "english=int(input(\"Enter English70 Marks\"))\n",
        "maths=int(input(\"Enter Maths Marks\"))\n",
        "science=int(input(\"Enter Science Marks\"))\n",
        "urdu=int(input(\"Enter Urdu Marks\"))\n",
        "islamiat=int(input(\"Enter Islamiat Marks\"))\n",
        "obtained_marks=english+maths+science+urdu+islamiat\n",
        "percentage=obtained_marks/500*100\n",
        "\n",
        "print(\"--------------STUDENT'S MARKSHEET---------------\")\n",
        "\n",
        "print(\"Your Roll Number is:\",rollNo)\n",
        "print(\"Your Name is:\",name )\n",
        "print(\"Your Gender is:\",gender)\n",
        "print(\"Your Age is:\",age)\n",
        "print(\"Your Class is:\",standard)\n",
        "print(\"Total Marks are:, 500\")\n",
        "print(\"Obtained Marks are:,obtained\")\n",
        "print(\"Percentage is:\",percentage)"
      ],
      "metadata": {
        "colab": {
          "base_uri": "https://localhost:8080/"
        },
        "id": "UIEoDnSJzBgg",
        "outputId": "0ef8e709-6b1d-4d0e-d45e-0b4583bcaaf6"
      },
      "execution_count": null,
      "outputs": [
        {
          "output_type": "stream",
          "name": "stdout",
          "text": [
            "Enter Roll No1505\n",
            "Enter Name:Fatima\n",
            "Enter GenderFemale\n",
            "Enter Age18\n",
            "Enter Class12\n",
            "Enter English70 Marks85\n",
            "Enter Maths Marks95\n",
            "Enter Science Marks90\n",
            "Enter Urdu Marks85\n",
            "Enter Islamiat Marks55\n",
            "--------------STUDENT'S MARKSHEET---------------\n",
            "Your Roll Number is: 1505\n",
            "Your Name is: Fatima\n",
            "Your Gender is: Female\n",
            "Your Age is: 18\n",
            "Your Class is: 12\n",
            "Total Marks are:, 500\n",
            "Obtained Marks are:,obtained\n",
            "Percentage is: 82.0\n"
          ]
        }
      ]
    },
    {
      "cell_type": "code",
      "source": [
        "english=int(input(\"Enter English Marks\"))\n",
        "maths=int(input(\"Enter Maths Marks\"))\n",
        "science=int(input(\"Enter Science Marks\"))\n",
        "urdu=int(input(\"Enter Urdu Marks\"))\n",
        "islamiat=int(input(\"Enter Islamiat Marks\"))\n",
        "total=english+maths+science+urdu+islamiat\n",
        "print(\"Total Marks of 5 subject is\", total)\n",
        "percentage=total/500*100\n",
        "print(\"Percentage is:\",percentage)\n",
        "if english>=33 and maths>=33 and science>=33 and urdu>=33 and islamiat>=33:\n",
        "  print(\"You are pass\")\n",
        "else:\n",
        "  print(\"You are fail\")"
      ],
      "metadata": {
        "colab": {
          "base_uri": "https://localhost:8080/"
        },
        "id": "azgJZIjV8_Iz",
        "outputId": "57f195a5-938a-457a-c589-0f89bf356527"
      },
      "execution_count": null,
      "outputs": [
        {
          "output_type": "stream",
          "name": "stdout",
          "text": [
            "Enter English Marks80\n",
            "Enter Maths Marks70\n",
            "Enter Science Marks50\n",
            "Enter Urdu Marks65\n",
            "Enter Islamiat Marks77\n",
            "Total Marks of 5 subject is 342\n",
            "Percentage is: 68.4\n",
            "You are pass\n"
          ]
        }
      ]
    },
    {
      "cell_type": "code",
      "source": [
        "english=int(input(\"Enter English Marks\"))\n",
        "maths=int(input(\"Enter Maths Marks\"))\n",
        "science=int(input(\"Enter Science Marks\"))\n",
        "urdu=int(input(\"Enter Urdu Marks\"))\n",
        "islamiat=int(input(\"Enter Islamiat Marks\"))\n",
        "total=english+maths+science+urdu+islamiat\n",
        "print(\"Total Marks of 5 subject is\", total)\n",
        "percentage=total/500*100\n",
        "print(\"Percentage is:\",percentage)\n",
        "if english<=33 and maths<=33 and science<=33 and urdu<=33 and islamiat<=33:\n",
        "  print(\"You are fail\")\n",
        "else:\n",
        "  print(\"You are pass\")"
      ],
      "metadata": {
        "colab": {
          "base_uri": "https://localhost:8080/"
        },
        "id": "JYxPU2yl_Ijn",
        "outputId": "438e8170-928c-46d2-f674-e05ba0df080e"
      },
      "execution_count": null,
      "outputs": [
        {
          "output_type": "stream",
          "name": "stdout",
          "text": [
            "Enter English Marks30\n",
            "Enter Maths Marks23\n",
            "Enter Science Marks25\n",
            "Enter Urdu Marks28\n",
            "Enter Islamiat Marks15\n",
            "Total Marks of 5 subject is 121\n",
            "Percentage is: 24.2\n",
            "You are fail\n"
          ]
        }
      ]
    },
    {
      "cell_type": "code",
      "source": [
        "#Q. Write a programme to calculate the grade of a student.\n",
        "\n",
        "marks=int(input(\"Enter your Marks(0 to 100)\\n\"))\n",
        "if marks>=90:\n",
        "  grade=\"Excelent\"\n",
        "elif marks>=80:\n",
        "  grade=\"A++\"\n",
        "elif marks>=70:\n",
        "  grade=\"A\"\n",
        "elif marks>=60:\n",
        "  grade=\"B\"\n",
        "elif marks>=50:\n",
        "  grade=\"C\"\n",
        "elif marks>=40:\n",
        "  grade=\"D\"\n",
        "else:\n",
        "  grade=\"Fail\"\n",
        "print(\"Your Grade is:\",grade)"
      ],
      "metadata": {
        "colab": {
          "base_uri": "https://localhost:8080/"
        },
        "id": "prMxRpjTCRAm",
        "outputId": "f50d7d15-0a5e-44f2-aa9e-75323bc51b3a"
      },
      "execution_count": null,
      "outputs": [
        {
          "output_type": "stream",
          "name": "stdout",
          "text": [
            "Enter your Marks(0 to 100)\n",
            "33\n",
            "Your Grade is: Fail\n"
          ]
        }
      ]
    },
    {
      "cell_type": "code",
      "source": [
        "#Q. Write 3 table\n",
        "for i in range(1,11):\n",
        "  print(\"3 x\",i,\"=\",3*i)"
      ],
      "metadata": {
        "colab": {
          "base_uri": "https://localhost:8080/"
        },
        "id": "nygaMBMKGL2N",
        "outputId": "bf3b383d-5b1c-41a7-c726-aa3b637efe90"
      },
      "execution_count": null,
      "outputs": [
        {
          "output_type": "stream",
          "name": "stdout",
          "text": [
            "3 x 1 = 3\n",
            "3 x 2 = 6\n",
            "3 x 3 = 9\n",
            "3 x 4 = 12\n",
            "3 x 5 = 15\n",
            "3 x 6 = 18\n",
            "3 x 7 = 21\n",
            "3 x 8 = 24\n",
            "3 x 9 = 27\n",
            "3 x 10 = 30\n"
          ]
        }
      ]
    },
    {
      "cell_type": "code",
      "source": [
        "#Q. Write 9 table\n",
        "for i in range(0,11):\n",
        "  print(\"9 x\",i,\"=\",9*i)"
      ],
      "metadata": {
        "colab": {
          "base_uri": "https://localhost:8080/"
        },
        "id": "V0No3-QWICUx",
        "outputId": "4ab1a1cd-2696-4be1-c789-4609bc28c22c"
      },
      "execution_count": null,
      "outputs": [
        {
          "output_type": "stream",
          "name": "stdout",
          "text": [
            "9 x 0 = 0\n",
            "9 x 1 = 9\n",
            "9 x 2 = 18\n",
            "9 x 3 = 27\n",
            "9 x 4 = 36\n",
            "9 x 5 = 45\n",
            "9 x 6 = 54\n",
            "9 x 7 = 63\n",
            "9 x 8 = 72\n",
            "9 x 9 = 81\n",
            "9 x 10 = 90\n"
          ]
        }
      ]
    },
    {
      "cell_type": "code",
      "source": [
        "print('\\n'.join(f'{j}*{j}={(i*j)}' for i in range(1,11) for j in range(1,11)))"
      ],
      "metadata": {
        "colab": {
          "base_uri": "https://localhost:8080/"
        },
        "id": "l2252atcaBol",
        "outputId": "4476e5e9-00a6-49d8-ce0f-7e916adfbafb"
      },
      "execution_count": null,
      "outputs": [
        {
          "output_type": "stream",
          "name": "stdout",
          "text": [
            "1*1=1\n",
            "2*2=2\n",
            "3*3=3\n",
            "4*4=4\n",
            "5*5=5\n",
            "6*6=6\n",
            "7*7=7\n",
            "8*8=8\n",
            "9*9=9\n",
            "10*10=10\n",
            "1*1=2\n",
            "2*2=4\n",
            "3*3=6\n",
            "4*4=8\n",
            "5*5=10\n",
            "6*6=12\n",
            "7*7=14\n",
            "8*8=16\n",
            "9*9=18\n",
            "10*10=20\n",
            "1*1=3\n",
            "2*2=6\n",
            "3*3=9\n",
            "4*4=12\n",
            "5*5=15\n",
            "6*6=18\n",
            "7*7=21\n",
            "8*8=24\n",
            "9*9=27\n",
            "10*10=30\n",
            "1*1=4\n",
            "2*2=8\n",
            "3*3=12\n",
            "4*4=16\n",
            "5*5=20\n",
            "6*6=24\n",
            "7*7=28\n",
            "8*8=32\n",
            "9*9=36\n",
            "10*10=40\n",
            "1*1=5\n",
            "2*2=10\n",
            "3*3=15\n",
            "4*4=20\n",
            "5*5=25\n",
            "6*6=30\n",
            "7*7=35\n",
            "8*8=40\n",
            "9*9=45\n",
            "10*10=50\n",
            "1*1=6\n",
            "2*2=12\n",
            "3*3=18\n",
            "4*4=24\n",
            "5*5=30\n",
            "6*6=36\n",
            "7*7=42\n",
            "8*8=48\n",
            "9*9=54\n",
            "10*10=60\n",
            "1*1=7\n",
            "2*2=14\n",
            "3*3=21\n",
            "4*4=28\n",
            "5*5=35\n",
            "6*6=42\n",
            "7*7=49\n",
            "8*8=56\n",
            "9*9=63\n",
            "10*10=70\n",
            "1*1=8\n",
            "2*2=16\n",
            "3*3=24\n",
            "4*4=32\n",
            "5*5=40\n",
            "6*6=48\n",
            "7*7=56\n",
            "8*8=64\n",
            "9*9=72\n",
            "10*10=80\n",
            "1*1=9\n",
            "2*2=18\n",
            "3*3=27\n",
            "4*4=36\n",
            "5*5=45\n",
            "6*6=54\n",
            "7*7=63\n",
            "8*8=72\n",
            "9*9=81\n",
            "10*10=90\n",
            "1*1=10\n",
            "2*2=20\n",
            "3*3=30\n",
            "4*4=40\n",
            "5*5=50\n",
            "6*6=60\n",
            "7*7=70\n",
            "8*8=80\n",
            "9*9=90\n",
            "10*10=100\n"
          ]
        }
      ]
    },
    {
      "cell_type": "code",
      "source": [
        "  for i in range(1,11):\n",
        "    print(f\"2x{i}={2*i}\")"
      ],
      "metadata": {
        "id": "v3IypDkoLS1f",
        "colab": {
          "base_uri": "https://localhost:8080/"
        },
        "outputId": "9782269f-26b4-4449-de8e-e42b6386eca5"
      },
      "execution_count": null,
      "outputs": [
        {
          "output_type": "stream",
          "name": "stdout",
          "text": [
            "2x1=2\n",
            "2x2=4\n",
            "2x3=6\n",
            "2x4=8\n",
            "2x5=10\n",
            "2x6=12\n",
            "2x7=14\n",
            "2x8=16\n",
            "2x9=18\n",
            "2x10=20\n"
          ]
        }
      ]
    },
    {
      "cell_type": "code",
      "source": [
        "# open an image\n",
        "# from a local file\n",
        "from PIL import Image\n",
        "# open an image\n",
        "# from a local file\n",
        "from PIL import Image\n",
        "img=Image.open('bird.png')\n",
        "img.show()\n",
        "# $ python3 074-open-image.py"
      ],
      "metadata": {
        "colab": {
          "base_uri": "https://localhost:8080/",
          "height": 124
        },
        "id": "iJ2YlK2G4Dqn",
        "outputId": "699ef6dd-b3ae-4026-e0a8-3985a03d732d"
      },
      "execution_count": null,
      "outputs": [
        {
          "output_type": "error",
          "ename": "SyntaxError",
          "evalue": "leading zeros in decimal integer literals are not permitted; use an 0o prefix for octal integers (<ipython-input-1-66bc81422e94>, line 6)",
          "traceback": [
            "\u001b[0;36m  File \u001b[0;32m\"<ipython-input-1-66bc81422e94>\"\u001b[0;36m, line \u001b[0;32m6\u001b[0m\n\u001b[0;31m    $ python3 074-open-image.py\u001b[0m\n\u001b[0m              ^\u001b[0m\n\u001b[0;31mSyntaxError\u001b[0m\u001b[0;31m:\u001b[0m leading zeros in decimal integer literals are not permitted; use an 0o prefix for octal integers\n"
          ]
        }
      ]
    },
    {
      "cell_type": "code",
      "source": [
        "In [21]: #lcoding\n",
        "print(\"\\033[1,37;48m Python \\n]\")\n",
        "print(\"\\033[1,36;48m Python \\n]\")\n",
        "print(\"\\033[1,35;48m Python \\n]\")\n",
        "print(\"\\033[1,34;48m Python \\n]\")\n",
        "print(\"\\033[1,33;48m Python \\n]\")\n",
        "print(\"\\033[1,32;48m Python \\n]\")\n",
        "print(\"\\033[1,31;48m Python \\n]\")"
      ],
      "metadata": {
        "colab": {
          "base_uri": "https://localhost:8080/"
        },
        "id": "p39VDZ4sGODc",
        "outputId": "ff602818-5e9a-44ad-e92d-ce0d2b8faf29"
      },
      "execution_count": null,
      "outputs": [
        {
          "output_type": "stream",
          "name": "stdout",
          "text": [
            "\u001b[1,37;48m Python \n",
            "]\n",
            "\u001b[1,36;48m Python \n",
            "]\n",
            "\u001b[1,35;48m Python \n",
            "]\n",
            "\u001b[1,34;48m Python \n",
            "]\n",
            "\u001b[1,33;48m Python \n",
            "]\n",
            "\u001b[1,32;48m Python \n",
            "]\n",
            "\u001b[1,31;48m Python \n",
            "]\n"
          ]
        }
      ]
    },
    {
      "cell_type": "code",
      "source": [
        "import colorama\n",
        "from colorama import Fore, Back,Style\n",
        "import colorama\n",
        "from colorama import Fore, Back, Style\n",
        "colorama.init(autoreset=True)\n",
        "\n",
        "\n",
        "print(Fore.BLUE + \"My name is Rimsha Parveen\" + Fore.YELLOW + \"I am your AI Student\")"
      ],
      "metadata": {
        "colab": {
          "base_uri": "https://localhost:8080/",
          "height": 383
        },
        "id": "rnkELsbuMGOA",
        "outputId": "4e54c600-e21f-4156-cb64-7c7c23de5d7e"
      },
      "execution_count": null,
      "outputs": [
        {
          "output_type": "error",
          "ename": "ModuleNotFoundError",
          "evalue": "No module named 'colorama'",
          "traceback": [
            "\u001b[0;31m---------------------------------------------------------------------------\u001b[0m",
            "\u001b[0;31mModuleNotFoundError\u001b[0m                       Traceback (most recent call last)",
            "\u001b[0;32m<ipython-input-3-82065531e5b1>\u001b[0m in \u001b[0;36m<cell line: 1>\u001b[0;34m()\u001b[0m\n\u001b[0;32m----> 1\u001b[0;31m \u001b[0;32mimport\u001b[0m \u001b[0mcolorama\u001b[0m\u001b[0;34m\u001b[0m\u001b[0;34m\u001b[0m\u001b[0m\n\u001b[0m\u001b[1;32m      2\u001b[0m \u001b[0;32mfrom\u001b[0m \u001b[0mcolorama\u001b[0m \u001b[0;32mimport\u001b[0m \u001b[0mFore\u001b[0m\u001b[0;34m,\u001b[0m \u001b[0mBack\u001b[0m\u001b[0;34m,\u001b[0m\u001b[0mStyle\u001b[0m\u001b[0;34m\u001b[0m\u001b[0;34m\u001b[0m\u001b[0m\n\u001b[1;32m      3\u001b[0m \u001b[0;32mimport\u001b[0m \u001b[0mcolorama\u001b[0m\u001b[0;34m\u001b[0m\u001b[0;34m\u001b[0m\u001b[0m\n\u001b[1;32m      4\u001b[0m \u001b[0;32mfrom\u001b[0m \u001b[0mcolorama\u001b[0m \u001b[0;32mimport\u001b[0m \u001b[0mFore\u001b[0m\u001b[0;34m,\u001b[0m \u001b[0mBack\u001b[0m\u001b[0;34m,\u001b[0m \u001b[0mStyle\u001b[0m\u001b[0;34m\u001b[0m\u001b[0;34m\u001b[0m\u001b[0m\n\u001b[1;32m      5\u001b[0m \u001b[0mcolorama\u001b[0m\u001b[0;34m.\u001b[0m\u001b[0minit\u001b[0m\u001b[0;34m(\u001b[0m\u001b[0mautoreset\u001b[0m\u001b[0;34m=\u001b[0m\u001b[0;32mTrue\u001b[0m\u001b[0;34m)\u001b[0m\u001b[0;34m\u001b[0m\u001b[0;34m\u001b[0m\u001b[0m\n",
            "\u001b[0;31mModuleNotFoundError\u001b[0m: No module named 'colorama'",
            "",
            "\u001b[0;31m---------------------------------------------------------------------------\u001b[0;32m\nNOTE: If your import is failing due to a missing package, you can\nmanually install dependencies using either !pip or !apt.\n\nTo view examples of installing some common dependencies, click the\n\"Open Examples\" button below.\n\u001b[0;31m---------------------------------------------------------------------------\u001b[0m\n"
          ],
          "errorDetails": {
            "actions": [
              {
                "action": "open_url",
                "actionText": "Open Examples",
                "url": "/notebooks/snippets/importing_libraries.ipynb"
              }
            ]
          }
        }
      ]
    }
  ]
}