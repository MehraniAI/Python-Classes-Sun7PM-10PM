{
  "nbformat": 4,
  "nbformat_minor": 0,
  "metadata": {
    "colab": {
      "provenance": []
    },
    "kernelspec": {
      "name": "python3",
      "display_name": "Python 3"
    },
    "language_info": {
      "name": "python"
    }
  },
  "cells": [
    {
      "cell_type": "code",
      "source": [
        "# Recursive Function/Recursion\n",
        "def count_down(num: int)-> int:\n",
        "  if num ==0:\n",
        "    print(\"Count down done\")\n",
        "  else:\n",
        "    print(\"num>>>\",num) # 10->9\n",
        "    count_down(num-1) # 9-1 ->8\n",
        "\n",
        "\n",
        "count_down(10)"
      ],
      "metadata": {
        "colab": {
          "base_uri": "https://localhost:8080/"
        },
        "id": "ARqiY6W7SGSq",
        "outputId": "0b99397a-ca30-45b6-cf76-10ae30a24af9"
      },
      "execution_count": null,
      "outputs": [
        {
          "output_type": "stream",
          "name": "stdout",
          "text": [
            "num>>> 10\n",
            "num>>> 9\n",
            "num>>> 8\n",
            "num>>> 7\n",
            "num>>> 6\n",
            "num>>> 5\n",
            "num>>> 4\n",
            "num>>> 3\n",
            "num>>> 2\n",
            "num>>> 1\n",
            "Count down done\n"
          ]
        }
      ]
    },
    {
      "cell_type": "code",
      "source": [
        "# lambda function in python\n",
        "def add(a:int,b:int):\n",
        "  return a+b\n",
        "\n",
        "result=add(5,6)\n",
        "print(result)\n",
        "result=add(5,6)\n",
        "print(result)\n"
      ],
      "metadata": {
        "id": "AzQPLol8VBn4",
        "colab": {
          "base_uri": "https://localhost:8080/"
        },
        "outputId": "799dfd4f-100b-489e-f4d1-da8b02267955"
      },
      "execution_count": null,
      "outputs": [
        {
          "output_type": "stream",
          "name": "stdout",
          "text": [
            "11\n",
            "11\n"
          ]
        }
      ]
    },
    {
      "cell_type": "code",
      "source": [
        "def add(a:int,b:int):\n",
        "  return a+b\n",
        "\n",
        "result=add(5,6)\n",
        "print(result)\n",
        "result=add(5,6)\n",
        "print(result) # Changed 'revse_result' to 'result'\n"
      ],
      "metadata": {
        "colab": {
          "base_uri": "https://localhost:8080/"
        },
        "id": "Pc-4Sga64k9V",
        "outputId": "6dcf8e71-b858-4525-ae23-7a116857db78"
      },
      "execution_count": null,
      "outputs": [
        {
          "output_type": "stream",
          "name": "stdout",
          "text": [
            "11\n",
            "11\n"
          ]
        }
      ]
    },
    {
      "cell_type": "code",
      "source": [
        "\n",
        "# def add(a:int,b:int)-int:\n",
        "#  return a+b\n",
        "\n",
        "# lambda parameters: expression/statement\n",
        "\n",
        "add=lambda a,b: a+b\n",
        "\n",
        "result= add(5,6)\n",
        "print(\"result>>>\",result)\n"
      ],
      "metadata": {
        "colab": {
          "base_uri": "https://localhost:8080/"
        },
        "id": "h3EyAueTWUOR",
        "outputId": "f183f594-63c9-4070-a27f-204d50c33ed5"
      },
      "execution_count": null,
      "outputs": [
        {
          "output_type": "stream",
          "name": "stdout",
          "text": [
            "result>>> 11\n"
          ]
        }
      ]
    },
    {
      "cell_type": "code",
      "source": [
        "n=n*num-1"
      ],
      "metadata": {
        "id": "IKZ9DgVSZQu9"
      },
      "execution_count": null,
      "outputs": []
    },
    {
      "cell_type": "code",
      "source": [
        "# OS operting System\n",
        "import os\n",
        "print(\"cwd\",os.getcwd()) #cwd-> current working directory\n",
        "print(\"list dir\",os.listdir)"
      ],
      "metadata": {
        "colab": {
          "base_uri": "https://localhost:8080/"
        },
        "id": "HlRaPQVeZhTm",
        "outputId": "549341e7-1510-4386-fe9e-e07708f82e57"
      },
      "execution_count": null,
      "outputs": [
        {
          "output_type": "stream",
          "name": "stdout",
          "text": [
            "cwd /content\n",
            "list dir <built-in function listdir>\n"
          ]
        }
      ]
    },
    {
      "cell_type": "code",
      "source": [
        "if os.path.exists(\"text.txt\"):\n",
        "    file = open(\"text.txt\", \"r\")\n",
        "    print(\"files>>>\", file)\n",
        "    print(file.read())\n",
        "    file.close()\n",
        "else:\n",
        "    print(\"The file 'text.txt' does not exist in the current directory.\")\n"
      ],
      "metadata": {
        "colab": {
          "base_uri": "https://localhost:8080/"
        },
        "id": "entV9scC61IY",
        "outputId": "c0291695-1538-4a7b-f0d2-7e7d116e8e00"
      },
      "execution_count": null,
      "outputs": [
        {
          "output_type": "stream",
          "name": "stdout",
          "text": [
            "The file 'text.txt' does not exist in the current directory.\n"
          ]
        }
      ]
    },
    {
      "cell_type": "code",
      "source": [
        "file=open(\"text2.txt\",\"w\")\n",
        "file.write(\" I am fine \")\n",
        "file.close()"
      ],
      "metadata": {
        "id": "TNHr-u_X8fS2"
      },
      "execution_count": null,
      "outputs": []
    },
    {
      "cell_type": "code",
      "source": [
        "numberGames = {}\n",
        "numberGames[(1,2,4)]=8\n",
        "numberGames[(4,2,1)]=10\n",
        "numberGames[(1,2)]=12\n",
        "sum=0\n",
        "for k in numberGames:\n",
        "  sum += numberGames[k]\n",
        "print(len(numberGames)+sum)\n"
      ],
      "metadata": {
        "colab": {
          "base_uri": "https://localhost:8080/"
        },
        "id": "kcO-ZhRRJ8TE",
        "outputId": "14263bc2-f4f4-4b5f-83b6-52710e9d1b62"
      },
      "execution_count": null,
      "outputs": [
        {
          "output_type": "stream",
          "name": "stdout",
          "text": [
            "33\n"
          ]
        }
      ]
    },
    {
      "cell_type": "code",
      "source": [
        "numberGames = {}\n",
        "numberGames[(1,2,4)]=101\n",
        "numberGames[(4,2,1)]=101\n",
        "numberGames[(1,2)]=101\n",
        "numberGames[(1,3)]=101\n",
        "numberGames[(1,3,4)]=101\n",
        "sum=0\n",
        "for k in numberGames:\n",
        "  sum += numberGames[k]\n",
        "print(len(numberGames)+sum)\n"
      ],
      "metadata": {
        "colab": {
          "base_uri": "https://localhost:8080/"
        },
        "id": "N9a0n8hpeS41",
        "outputId": "dd41c657-519e-4b1e-d22e-ccc10f35ae02"
      },
      "execution_count": null,
      "outputs": [
        {
          "output_type": "stream",
          "name": "stdout",
          "text": [
            "510\n"
          ]
        }
      ]
    }
  ]
}