{
  "nbformat": 4,
  "nbformat_minor": 0,
  "metadata": {
    "colab": {
      "provenance": []
    },
    "kernelspec": {
      "name": "python3",
      "display_name": "Python 3"
    },
    "language_info": {
      "name": "python"
    }
  },
  "cells": [
    {
      "cell_type": "code",
      "execution_count": null,
      "metadata": {
        "id": "u6pycI5v7c9e",
        "colab": {
          "base_uri": "https://localhost:8080/"
        },
        "outputId": "b22c4550-6406-409f-90b3-c879a1e53a1e"
      },
      "outputs": [
        {
          "output_type": "stream",
          "name": "stdout",
          "text": [
            "Helow world\n"
          ]
        }
      ],
      "source": [
        " print(\"Helow world\")"
      ]
    },
    {
      "cell_type": "code",
      "source": [
        "print(\"hi are you\")"
      ],
      "metadata": {
        "colab": {
          "base_uri": "https://localhost:8080/"
        },
        "id": "s1iiJa3nQ-SQ",
        "outputId": "9cc722b5-6144-4a1e-be0e-fea4e2027c66"
      },
      "execution_count": null,
      "outputs": [
        {
          "output_type": "stream",
          "name": "stdout",
          "text": [
            "hi are you\n"
          ]
        }
      ]
    },
    {
      "cell_type": "code",
      "source": [
        "user_input=int(input(\"enter your number\"))\n",
        "try:\n",
        "  for num in range(1,11):\n",
        "    print(f\"{user_input}*{num}={num*user_input}\")\n",
        "except Exception as error:\n",
        "  print(\"please enter valid number\")"
      ],
      "metadata": {
        "colab": {
          "base_uri": "https://localhost:8080/"
        },
        "id": "tOjNSFEWR1FL",
        "outputId": "1653a1bf-5ee7-44dd-e19d-24a6fe33df0d"
      },
      "execution_count": null,
      "outputs": [
        {
          "output_type": "stream",
          "name": "stdout",
          "text": [
            "enter your number7\n",
            "7*1=7\n",
            "7*2=14\n",
            "7*3=21\n",
            "7*4=28\n",
            "7*5=35\n",
            "7*6=42\n",
            "7*7=49\n",
            "7*8=56\n",
            "7*9=63\n",
            "7*10=70\n"
          ]
        }
      ]
    },
    {
      "cell_type": "code",
      "source": [
        "num=[1,2,3,4]\n",
        "try:\n",
        "  result=num[4]\n",
        "except IndexError:\n",
        "  print(\"please provide in valid index\")"
      ],
      "metadata": {
        "colab": {
          "base_uri": "https://localhost:8080/"
        },
        "id": "Z_M5b_OPVnl-",
        "outputId": "d765cb94-fc36-472b-c1f0-9075148dab41"
      },
      "execution_count": null,
      "outputs": [
        {
          "output_type": "stream",
          "name": "stdout",
          "text": [
            "please provide in valid index\n"
          ]
        }
      ]
    },
    {
      "cell_type": "code",
      "source": [
        "# local and Global Variables\n",
        "num_x=5\n",
        "print(\"num_x ouside function one\",num_x)\n",
        "def hello():\n",
        "    print(\"num_x inside function\",num_x)\n",
        "    print(\"hellow how are you?\")\n",
        "hello()\n",
        "global num_x\n",
        "global result\n",
        "\n",
        "num_x=10\n",
        "print(\"num_x ouside function two\",num_x)"
      ],
      "metadata": {
        "colab": {
          "base_uri": "https://localhost:8080/"
        },
        "id": "P5ByQOYSXyr5",
        "outputId": "a7786dec-8b91-4244-9848-7bd1ab693349"
      },
      "execution_count": null,
      "outputs": [
        {
          "output_type": "stream",
          "name": "stdout",
          "text": [
            "num_x ouside function one 5\n",
            "num_x inside function 5\n",
            "hellow how are you?\n",
            "num_x ouside function two 10\n"
          ]
        }
      ]
    },
    {
      "cell_type": "code",
      "source": [
        "def addition(num1: int, num2: int):\n",
        "    \"\"\"takes twoparamters and return their sum\"\"\" # or under same way\n",
        "    '''takes twoparamters and return their sum'''\n",
        "    return num1+num2\n",
        "result= addition(2,2)\n",
        "print(addition.__doc__)\n",
        "print(result)\n"
      ],
      "metadata": {
        "colab": {
          "base_uri": "https://localhost:8080/"
        },
        "id": "si-K0MzIQndb",
        "outputId": "14feca3c-253a-42b7-fe34-3e03c510c4fd"
      },
      "execution_count": null,
      "outputs": [
        {
          "output_type": "stream",
          "name": "stdout",
          "text": [
            "takes twoparamters and return their sum\n",
            "4\n"
          ]
        }
      ]
    },
    {
      "cell_type": "code",
      "source": [
        "def subtraction(num1: int, num2: int):\n",
        "    \"\"\"takes twoparamters and return their subtraction\"\"\" # or under same way\n",
        "    '''takes twoparamters and return their subtraction'''\n",
        "    return num1-num2\n",
        "result= subtraction(8,2)\n",
        "print(subtraction.__doc__)\n",
        "print(result)\n"
      ],
      "metadata": {
        "colab": {
          "base_uri": "https://localhost:8080/"
        },
        "id": "2qJLp9DUSk13",
        "outputId": "523cf87b-10d9-4738-d8d5-8ea48d9341d6"
      },
      "execution_count": null,
      "outputs": [
        {
          "output_type": "stream",
          "name": "stdout",
          "text": [
            "takes twoparamters and return their subtraction\n",
            "6\n"
          ]
        }
      ]
    },
    {
      "cell_type": "code",
      "source": [
        "def multply(num1: int, num2: int):\n",
        "    \"\"\"takes twoparamters and return their Multply\"\"\" # or under same way\n",
        "    '''takes twoparamters and return their Multply'''\n",
        "    return num1*num2\n",
        "result= multply(8,2)\n",
        "print(multply.__doc__)\n",
        "print(result)\n"
      ],
      "metadata": {
        "colab": {
          "base_uri": "https://localhost:8080/"
        },
        "id": "u-XfTrX-Q48c",
        "outputId": "57fb7466-ff13-4f92-dd8e-b6a688056357"
      },
      "execution_count": null,
      "outputs": [
        {
          "output_type": "stream",
          "name": "stdout",
          "text": [
            "takes twoparamters and return their Multply\n",
            "16\n"
          ]
        }
      ]
    },
    {
      "cell_type": "code",
      "source": [
        "def division(num1: int, num2: int):\n",
        "    \"\"\"takes twoparamters and return their division\"\"\" # or under same way\n",
        "    '''takes twoparamters and return their division'''\n",
        "    return num1/num2\n",
        "result= division(8,2)\n",
        "print(division.__doc__)\n",
        "print(result)\n"
      ],
      "metadata": {
        "colab": {
          "base_uri": "https://localhost:8080/"
        },
        "id": "0b6RbDCBSBzT",
        "outputId": "c0fec428-bf88-4767-9755-3d99a7ab7575"
      },
      "execution_count": null,
      "outputs": [
        {
          "output_type": "stream",
          "name": "stdout",
          "text": [
            "takes twoparamters and return their division\n",
            "4.0\n"
          ]
        }
      ]
    },
    {
      "cell_type": "code",
      "source": [
        "def addition(num1: int, num2: int):\n",
        "    \"\"\"takes twoparamters and return their sum\"\"\" # or under same way\n",
        "    '''takes twoparamters and return their sum'''\n",
        "    return num1+num2\n",
        "result= addition(2,2)\n",
        "print(addition.__doc__)\n",
        "print(result)\n",
        "  return num1+num2\n",
        "result= addition(2,2)\n",
        "print(addition._doc_)\n",
        "print(result)"
      ],
      "metadata": {
        "colab": {
          "base_uri": "https://localhost:8080/",
          "height": 228
        },
        "id": "Rh-G7Zh_cgGG",
        "outputId": "87421716-3aa8-442d-cb9e-4bfb077f6955"
      },
      "execution_count": null,
      "outputs": [
        {
          "output_type": "stream",
          "name": "stdout",
          "text": [
            "takes twoparamters and return their sum\n",
            "4\n"
          ]
        },
        {
          "output_type": "error",
          "ename": "AttributeError",
          "evalue": "'function' object has no attribute '_doc_'",
          "traceback": [
            "\u001b[0;31m---------------------------------------------------------------------------\u001b[0m",
            "\u001b[0;31mAttributeError\u001b[0m                            Traceback (most recent call last)",
            "\u001b[0;32m<ipython-input-2-4753643f643d>\u001b[0m in \u001b[0;36m<cell line: 0>\u001b[0;34m()\u001b[0m\n\u001b[1;32m      8\u001b[0m \u001b[0;34m\u001b[0m\u001b[0m\n\u001b[1;32m      9\u001b[0m \u001b[0mresult\u001b[0m\u001b[0;34m=\u001b[0m \u001b[0maddition\u001b[0m\u001b[0;34m(\u001b[0m\u001b[0;36m2\u001b[0m\u001b[0;34m,\u001b[0m\u001b[0;36m2\u001b[0m\u001b[0;34m)\u001b[0m\u001b[0;34m\u001b[0m\u001b[0;34m\u001b[0m\u001b[0m\n\u001b[0;32m---> 10\u001b[0;31m \u001b[0mprint\u001b[0m\u001b[0;34m(\u001b[0m\u001b[0maddition\u001b[0m\u001b[0;34m.\u001b[0m\u001b[0m_doc_\u001b[0m\u001b[0;34m)\u001b[0m\u001b[0;34m\u001b[0m\u001b[0;34m\u001b[0m\u001b[0m\n\u001b[0m\u001b[1;32m     11\u001b[0m \u001b[0mprint\u001b[0m\u001b[0;34m(\u001b[0m\u001b[0mresult\u001b[0m\u001b[0;34m)\u001b[0m\u001b[0;34m\u001b[0m\u001b[0;34m\u001b[0m\u001b[0m\n",
            "\u001b[0;31mAttributeError\u001b[0m: 'function' object has no attribute '_doc_'"
          ]
        }
      ]
    },
    {
      "cell_type": "code",
      "source": [
        "def addition(num1: int, num2: int):\n",
        "    \"\"\"takes twoparamters and return their sum\"\"\"\n",
        "    return num1+num2\n",
        "\n",
        "result= addition(2,2)\n",
        "print(addition.__doc__)\n",
        "print(result)\n",
        "\n",
        "result= addition(4,6)\n",
        "print(addition.__doc__)\n",
        "print(result)"
      ],
      "metadata": {
        "colab": {
          "base_uri": "https://localhost:8080/"
        },
        "id": "oPfoypqhYubl",
        "outputId": "1569b72a-a737-4297-9ad5-faf3d11bae37"
      },
      "execution_count": null,
      "outputs": [
        {
          "output_type": "stream",
          "name": "stdout",
          "text": [
            "takes twoparamters and return their sum\n",
            "4\n",
            "takes twoparamters and return their sum\n",
            "10\n"
          ]
        }
      ]
    },
    {
      "cell_type": "code",
      "source": [
        "# string\n",
        "# number/interger\n",
        "# boolean\n",
        "# list\n",
        "# Tuple\n",
        "# Dictonary\n",
        "# set\n",
        "## add\n",
        "## Remove\n",
        "## discard\n",
        "##\n",
        "names_list=[\"Ali\",\"Heer\",\"Aamir\",\"Ali\",\"Abdullah\"]\n",
        "names_set={\"Ali\",\"Manoj Kumar\",\"Aamir\",\"Ali\",\"Abdullah\"}\n",
        "print(\"names list\",names_list[1])\n",
        "print(\"names set\",names_set)\n",
        "print(\"updated names\",names_set)\n",
        "names_set.pop()\n",
        "names_set.add(\"Rahim\")\n",
        "names_list.remove(\"Ali\")\n",
        "names_set.discard(\"Manoj Kumar\")\n",
        "print(\"updated names\",names_set)\n"
      ],
      "metadata": {
        "colab": {
          "base_uri": "https://localhost:8080/"
        },
        "id": "zcOsrXepMo_h",
        "outputId": "75e1acca-5537-4e78-e91d-bf08ccf272f5"
      },
      "execution_count": null,
      "outputs": [
        {
          "output_type": "stream",
          "name": "stdout",
          "text": [
            "names list Heer\n",
            "names set {'Ali', 'Aamir', 'Manoj Kumar', 'Abdullah'}\n",
            "updated names {'Ali', 'Aamir', 'Manoj Kumar', 'Abdullah'}\n",
            "updated names {'Aamir', 'Rahim', 'Abdullah'}\n"
          ]
        }
      ]
    },
    {
      "cell_type": "code",
      "source": [
        "#Final\n",
        "names_list = [\"Ali\", \"Heer\", \"Aamir\", \"Ali\", \"Abdullah\"]\n",
        "\n",
        "\n",
        "names_set = {\"Ali\", \"Manoj Kumar\", \"Aamir\", \"Ali\", \"Abdullah\"}\n",
        "\n",
        "\n",
        "print(\"Second name in the list:\", names_list[1])\n",
        "\n",
        "print(\"Original names set:\", names_set)\n",
        "\n",
        "\n",
        "names_set.pop()\n",
        "\n",
        "\n",
        "names_set.add(\"Rahim\")\n",
        "\n",
        "\n",
        "if \"Ali\" in names_list:\n",
        "    names_list.remove(\"Ali\")\n",
        "\n",
        "names_set.discard(\"Manoj Kumar\")\n",
        "print(\"Updated names set:\", names_set)\n",
        "print(\"Updated names list:\", names_list)"
      ],
      "metadata": {
        "colab": {
          "base_uri": "https://localhost:8080/"
        },
        "id": "bbDQvbj7hsOg",
        "outputId": "56e4ff27-d1e7-47fc-b130-7e539e24438e"
      },
      "execution_count": null,
      "outputs": [
        {
          "output_type": "stream",
          "name": "stdout",
          "text": [
            "Second name in the list: Heer\n",
            "Original names set: {'Manoj Kumar', 'Aamir', 'Ali', 'Abdullah'}\n",
            "Updated names set: {'Rahim', 'Aamir', 'Abdullah', 'Ali'}\n",
            "Updated names list: ['Heer', 'Aamir', 'Ali', 'Abdullah']\n"
          ]
        }
      ]
    },
    {
      "cell_type": "code",
      "source": [
        "num_set_1={1,2,3}\n",
        "num_set_2={3,4,5}\n",
        "\n",
        "result=num_set_1.union(num_set_2)\n",
        "result=num_set_1.intersection(num_set_2)\n",
        "result=num_set_1.difference(num_set_2)\n",
        "result=num_set_1.symmetric_difference(num_set_2)\n",
        "print((\"result>>>\",result))\n",
        "print(num_set_1)\n",
        "print(num_set_2)\n",
        "print(result)"
      ],
      "metadata": {
        "colab": {
          "base_uri": "https://localhost:8080/"
        },
        "id": "jXkK3gmvncTZ",
        "outputId": "26119e3c-24ab-455c-cf7b-4eee403280d3"
      },
      "execution_count": null,
      "outputs": [
        {
          "output_type": "stream",
          "name": "stdout",
          "text": [
            "('result>>>', {1, 2, 4, 5})\n",
            "{1, 2, 3}\n",
            "{3, 4, 5}\n",
            "{1, 2, 4, 5}\n"
          ]
        }
      ]
    },
    {
      "cell_type": "code",
      "source": [
        "# assiginment\n",
        "## goglw colab read\n",
        "### github read\n",
        "####"
      ],
      "metadata": {
        "id": "rTlGoAIFpF7s"
      },
      "execution_count": null,
      "outputs": []
    },
    {
      "cell_type": "code",
      "source": [
        "import calendar\n",
        "import calendar\n",
        "import calendar\n",
        "cal = calendar.month(2025, 1)\n",
        "print(\"Here is the calendar:\")\n",
        "print(f\"\\033[3m\\033[34m{cal}\")\n"
      ],
      "metadata": {
        "colab": {
          "base_uri": "https://localhost:8080/"
        },
        "id": "9bSYPzx9WEI2",
        "outputId": "29658a2f-5757-4d7c-d3f5-cbb1ae244fdd"
      },
      "execution_count": null,
      "outputs": [
        {
          "output_type": "stream",
          "name": "stdout",
          "text": [
            "Here is the calendar:\n",
            "\u001b[3m\u001b[34m    January 2025\n",
            "Mo Tu We Th Fr Sa Su\n",
            "       1  2  3  4  5\n",
            " 6  7  8  9 10 11 12\n",
            "13 14 15 16 17 18 19\n",
            "20 21 22 23 24 25 26\n",
            "27 28 29 30 31\n",
            "\n"
          ]
        }
      ]
    },
    {
      "cell_type": "code",
      "source": [
        "import calendar\n",
        "\n",
        "# User input with error handling\n",
        "try:\n",
        "    num = int(input(\"Enter a Number: \"))\n",
        "    print(f\"You Entered: {num}\\n\")\n",
        "except ValueError:\n",
        "    print(\"Invalid Input! Please enter a valid number.\")\n",
        "    num = None\n",
        "\n",
        "# Calendar Example\n",
        "try:\n",
        "    year = int(input(\"\\nEnter a Year to Display the Calendar: \"))\n",
        "    print(calendar.calendar(year))  # Display full year's calendar\n",
        "except ValueError:\n",
        "    print(\"Invalid Year! Please enter a valid number.\")"
      ],
      "metadata": {
        "colab": {
          "base_uri": "https://localhost:8080/"
        },
        "id": "syyeN6OoRwmq",
        "outputId": "9cde8d01-5cdb-43c9-f473-8162cfba7ef1"
      },
      "execution_count": null,
      "outputs": [
        {
          "output_type": "stream",
          "name": "stdout",
          "text": [
            "Enter a Number: 2025\n",
            "You Entered: 2025\n",
            "\n",
            "\n",
            "Enter a Year to Display the Calendar: 2025\n",
            "                                  2025\n",
            "\n",
            "      January                   February                   March\n",
            "Mo Tu We Th Fr Sa Su      Mo Tu We Th Fr Sa Su      Mo Tu We Th Fr Sa Su\n",
            "       1  2  3  4  5                      1  2                      1  2\n",
            " 6  7  8  9 10 11 12       3  4  5  6  7  8  9       3  4  5  6  7  8  9\n",
            "13 14 15 16 17 18 19      10 11 12 13 14 15 16      10 11 12 13 14 15 16\n",
            "20 21 22 23 24 25 26      17 18 19 20 21 22 23      17 18 19 20 21 22 23\n",
            "27 28 29 30 31            24 25 26 27 28            24 25 26 27 28 29 30\n",
            "                                                    31\n",
            "\n",
            "       April                      May                       June\n",
            "Mo Tu We Th Fr Sa Su      Mo Tu We Th Fr Sa Su      Mo Tu We Th Fr Sa Su\n",
            "    1  2  3  4  5  6                1  2  3  4                         1\n",
            " 7  8  9 10 11 12 13       5  6  7  8  9 10 11       2  3  4  5  6  7  8\n",
            "14 15 16 17 18 19 20      12 13 14 15 16 17 18       9 10 11 12 13 14 15\n",
            "21 22 23 24 25 26 27      19 20 21 22 23 24 25      16 17 18 19 20 21 22\n",
            "28 29 30                  26 27 28 29 30 31         23 24 25 26 27 28 29\n",
            "                                                    30\n",
            "\n",
            "        July                     August                  September\n",
            "Mo Tu We Th Fr Sa Su      Mo Tu We Th Fr Sa Su      Mo Tu We Th Fr Sa Su\n",
            "    1  2  3  4  5  6                   1  2  3       1  2  3  4  5  6  7\n",
            " 7  8  9 10 11 12 13       4  5  6  7  8  9 10       8  9 10 11 12 13 14\n",
            "14 15 16 17 18 19 20      11 12 13 14 15 16 17      15 16 17 18 19 20 21\n",
            "21 22 23 24 25 26 27      18 19 20 21 22 23 24      22 23 24 25 26 27 28\n",
            "28 29 30 31               25 26 27 28 29 30 31      29 30\n",
            "\n",
            "      October                   November                  December\n",
            "Mo Tu We Th Fr Sa Su      Mo Tu We Th Fr Sa Su      Mo Tu We Th Fr Sa Su\n",
            "       1  2  3  4  5                      1  2       1  2  3  4  5  6  7\n",
            " 6  7  8  9 10 11 12       3  4  5  6  7  8  9       8  9 10 11 12 13 14\n",
            "13 14 15 16 17 18 19      10 11 12 13 14 15 16      15 16 17 18 19 20 21\n",
            "20 21 22 23 24 25 26      17 18 19 20 21 22 23      22 23 24 25 26 27 28\n",
            "27 28 29 30 31            24 25 26 27 28 29 30      29 30 31\n",
            "\n"
          ]
        }
      ]
    },
    {
      "cell_type": "code",
      "source": [
        "num1 = int(input('Enter A Number:'))\n",
        "\n",
        "for i in range(1,30):\n",
        "    print(f'{num1}x{i} ={num1*i}')\n",
        "    i +=1"
      ],
      "metadata": {
        "colab": {
          "base_uri": "https://localhost:8080/"
        },
        "id": "05aCCthHSJIa",
        "outputId": "615acd79-a646-467f-c8d4-0be4ce5adb46"
      },
      "execution_count": null,
      "outputs": [
        {
          "output_type": "stream",
          "name": "stdout",
          "text": [
            "Enter A Number:25\n",
            "25x1 =25\n",
            "25x2 =50\n",
            "25x3 =75\n",
            "25x4 =100\n",
            "25x5 =125\n",
            "25x6 =150\n",
            "25x7 =175\n",
            "25x8 =200\n",
            "25x9 =225\n",
            "25x10 =250\n",
            "25x11 =275\n",
            "25x12 =300\n",
            "25x13 =325\n",
            "25x14 =350\n",
            "25x15 =375\n",
            "25x16 =400\n",
            "25x17 =425\n",
            "25x18 =450\n",
            "25x19 =475\n",
            "25x20 =500\n",
            "25x21 =525\n",
            "25x22 =550\n",
            "25x23 =575\n",
            "25x24 =600\n",
            "25x25 =625\n",
            "25x26 =650\n",
            "25x27 =675\n",
            "25x28 =700\n",
            "25x29 =725\n"
          ]
        }
      ]
    }
  ]
}