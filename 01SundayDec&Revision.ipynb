{
  "nbformat": 4,
  "nbformat_minor": 0,
  "metadata": {
    "colab": {
      "provenance": []
    },
    "kernelspec": {
      "name": "python3",
      "display_name": "Python 3"
    },
    "language_info": {
      "name": "python"
    }
  },
  "cells": [
    {
      "cell_type": "code",
      "execution_count": null,
      "metadata": {
        "id": "h7JXH5Egz_1I"
      },
      "outputs": [],
      "source": [
        "print(\"Hello\")\n",
        "print(\"devandas\")\n",
        "teachername:str = \"aneel \"\n",
        "print(teachername)\n",
        "print(\"My name is Devan Das\")\n",
        "print(\"just hellow\")\n",
        "print(\"susheel kumar\")\n",
        "print(\"Shyam Sunder Class Three\")\n",
        "print(\"h w\")\n",
        "name:str=\"ali muhammad\"\n",
        "age:int=28\n",
        "is_active:bool=True\n",
        "print(name)\n",
        "#7+5\n",
        "print(7+5)\n",
        "#7-5\n",
        "print(7-5)\n",
        "#12/2\n",
        "print(12/2)\n",
        "num1:int=10\n",
        "num2:int=5\n",
        "sum:int=num1+num2\n",
        "print(sum)\n",
        "sub:int=num1-num2\n",
        "print(sub)\n",
        "#mul:int=num1/num2\n",
        "#print(mul)\n",
        "\n",
        "#print(8**2) exponent 8^2=8*8\n",
        "#print(10/2)\n",
        "#print(11//2) floor division\n",
        "#print(11%2) 11/2=1 reminder/modulus\n",
        "#Assigment operators\n",
        "X:int=10\n",
        "#10+5=15\n",
        "#x=x+5=15\n",
        "#X=X\n",
        "X=X%3 #REMINDER/MODULS\n",
        "#4 Assigiment opertyors\n",
        "x:int=15\n",
        "#15+5=15\n",
        "#x=x-5\n",
        "#x=x*2\n",
        "logical types\n",
        "and, or, not\n",
        "num1:int=10\n",
        "num2:int=11\n",
        "#condition\n",
        "#num1 is greater than 10\n",
        "#and\n",
        "#num1 is less 30\n",
        "#num1>10=True\n",
        "#num2<30=false\n",
        "# true and flase\n",
        "print(num1>10 and num1<30)\n",
        "# or\n",
        "num1:int=40\n",
        "k Electirc=\"k_electric\"\n",
        "ups=\"no ups\"\n",
        "is_active:bool=True\n",
        "#k-eletric on\n",
        "# ups  off\n",
        "k-Electirc:num1=yes\n",
        "ups:num2=no\n",
        "print(num1>10 and num1<40)\n",
        "print(num1>10 or num1<40) #true #flase\n",
        "print(num1>yes or num2<no)\n",
        "\n",
        "\n"
      ]
    },
    {
      "cell_type": "code",
      "source": [
        "#3 COMPARISON OPERATORS (True/Flase)\n",
        "#==(EQUAL)\n",
        "#> GREATER THAN\n",
        "#< LESS THAN\n",
        "#>= GRATER OR EQUAL TO\n",
        "#<= LESS OR EQUAL TO\n",
        "#!= NOT EQUAL TO\n",
        "num1:int=10\n",
        "num2:int=10\n",
        "print(num1==num2)\n",
        "print(num1>num2)\n",
        "print(num2<num1)\n",
        "print(num1>=num2)\n",
        "print(num1>=num2)\n",
        "print(num1!=num2)\n",
        "print(num1>=num2)\n",
        "print(num1<=num2)\n",
        "print(num1*num2)\n",
        "print(num2-num1)\n",
        "print(num1/num2)\n"
      ],
      "metadata": {
        "colab": {
          "base_uri": "https://localhost:8080/"
        },
        "id": "vyEBZD0824F2",
        "outputId": "c439a91f-836d-41b6-aff3-ab6942102ad4"
      },
      "execution_count": null,
      "outputs": [
        {
          "output_type": "stream",
          "name": "stdout",
          "text": [
            "True\n",
            "False\n",
            "False\n",
            "True\n",
            "True\n",
            "False\n",
            "True\n",
            "True\n",
            "100\n",
            "0\n",
            "1.0\n"
          ]
        }
      ]
    }
  ]
}