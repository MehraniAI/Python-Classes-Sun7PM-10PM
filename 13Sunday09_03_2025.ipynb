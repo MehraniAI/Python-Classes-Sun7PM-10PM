{
  "nbformat": 4,
  "nbformat_minor": 0,
  "metadata": {
    "colab": {
      "provenance": [],
      "authorship_tag": "ABX9TyMs1gD+s81hM4lHigYAUuYV",
      "include_colab_link": true
    },
    "kernelspec": {
      "name": "python3",
      "display_name": "Python 3"
    },
    "language_info": {
      "name": "python"
    }
  },
  "cells": [
    {
      "cell_type": "markdown",
      "metadata": {
        "id": "view-in-github",
        "colab_type": "text"
      },
      "source": [
        "<a href=\"https://colab.research.google.com/github/MehraniAI/Python-Classes-Sun7PM-10PM/blob/main/13Sunday09_03_2025.ipynb\" target=\"_parent\"><img src=\"https://colab.research.google.com/assets/colab-badge.svg\" alt=\"Open In Colab\"/></a>"
      ]
    },
    {
      "cell_type": "code",
      "execution_count": null,
      "metadata": {
        "id": "gPf2T3HyPNnG"
      },
      "outputs": [],
      "source": [
        "import pandas as pd"
      ]
    },
    {
      "cell_type": "code",
      "source": [
        "# List\n",
        "# Dicionay\n",
        "# Set\n",
        "# mutable hai jo change ho  saki"
      ],
      "metadata": {
        "id": "jqQyonXSZYhM"
      },
      "execution_count": null,
      "outputs": []
    },
    {
      "cell_type": "code",
      "source": [],
      "metadata": {
        "id": "-2D05xFTZyAD"
      },
      "execution_count": null,
      "outputs": []
    },
    {
      "cell_type": "code",
      "source": [
        "# immutable (Jo change na ho ske)\n",
        "# String\n",
        "# Integerboolean\n",
        "#tuple\n",
        "# float\n",
        "# None"
      ],
      "metadata": {
        "id": "wuC_G77dZqMY"
      },
      "execution_count": null,
      "outputs": []
    },
    {
      "cell_type": "code",
      "source": [
        "name: str = \"Aneeq Khatri\"\n",
        "dishes=[\"Somse\",\"Pakore\",\"Fruit chat\"]\n",
        "dishes.append(\"ice cream\")\n",
        "print(dishes)"
      ],
      "metadata": {
        "colab": {
          "base_uri": "https://localhost:8080/"
        },
        "id": "fk2xLAr4aNsS",
        "outputId": "af95b4c8-56f4-41c9-908a-76dc564533a9"
      },
      "execution_count": null,
      "outputs": [
        {
          "output_type": "stream",
          "name": "stdout",
          "text": [
            "['Somse', 'Pakore', 'Fruit chat', 'ice cream']\n"
          ]
        }
      ]
    },
    {
      "cell_type": "code",
      "source": [
        "number: int =20 # imtuple\n",
        "print(number)"
      ],
      "metadata": {
        "colab": {
          "base_uri": "https://localhost:8080/"
        },
        "id": "cczLtspAbFq_",
        "outputId": "0fc04bc0-c914-4d1d-af16-cf32a1978863"
      },
      "execution_count": null,
      "outputs": [
        {
          "output_type": "stream",
          "name": "stdout",
          "text": [
            "20\n"
          ]
        }
      ]
    },
    {
      "cell_type": "code",
      "source": [
        "list1 = [1,2,3,4,5]\n",
        "list2 = [1,2,3,4,5]\n",
        "list1=list2\n",
        "print(list1 == list2)\n",
        "print(list1 is list2)\n"
      ],
      "metadata": {
        "colab": {
          "base_uri": "https://localhost:8080/"
        },
        "id": "shxfPksKbimy",
        "outputId": "22236021-e566-4a79-cf0a-ee4bb6fe8582"
      },
      "execution_count": null,
      "outputs": [
        {
          "output_type": "stream",
          "name": "stdout",
          "text": [
            "True\n",
            "True\n"
          ]
        }
      ]
    },
    {
      "cell_type": "code",
      "source": [
        "list1 = [1,2,3,4,5]\n",
        "list2 = [1,2,3,4,5]\n",
        "\n",
        "print(list1 == list2)\n",
        "print(list1 is list2)\n"
      ],
      "metadata": {
        "colab": {
          "base_uri": "https://localhost:8080/"
        },
        "id": "HrnWK4chc0Ty",
        "outputId": "6af87436-294b-4ef4-f918-035823c6d322"
      },
      "execution_count": null,
      "outputs": [
        {
          "output_type": "stream",
          "name": "stdout",
          "text": [
            "True\n",
            "False\n"
          ]
        }
      ]
    },
    {
      "cell_type": "code",
      "source": [
        "name1 = \"Aneeq how are you ? i am fine\"\n",
        "name2 = \"Aneeq\"\n",
        "num1 = 10\n",
        "num2 = 10\n",
        "print(name1 == name2)\n",
        "print(name1 is name2)\n",
        "print(num1 == num2)\n",
        "print(num1 is num2)"
      ],
      "metadata": {
        "colab": {
          "base_uri": "https://localhost:8080/"
        },
        "id": "ZceoS2bjdIm0",
        "outputId": "27f379cb-e10a-4722-8d83-b8742f1abfd2"
      },
      "execution_count": null,
      "outputs": [
        {
          "output_type": "stream",
          "name": "stdout",
          "text": [
            "False\n",
            "False\n",
            "True\n",
            "True\n"
          ]
        }
      ]
    },
    {
      "cell_type": "code",
      "source": [
        "num1 = 256\n",
        "num2 = 256\n",
        "print(name1 is name2)\n",
        "print(num1 is num2)"
      ],
      "metadata": {
        "colab": {
          "base_uri": "https://localhost:8080/"
        },
        "id": "OyzzNsereI3n",
        "outputId": "c2c00bbf-a19c-4c33-e68f-79f3f70124bd"
      },
      "execution_count": null,
      "outputs": [
        {
          "output_type": "stream",
          "name": "stdout",
          "text": [
            "False\n",
            "True\n"
          ]
        }
      ]
    },
    {
      "cell_type": "code",
      "source": [
        "num1 = 256\n",
        "num2 = -256\n",
        "print(name1 is name2)\n",
        "print(num1 is num2)"
      ],
      "metadata": {
        "colab": {
          "base_uri": "https://localhost:8080/"
        },
        "id": "FAvzAM33edvE",
        "outputId": "257bb55e-f996-4655-fd80-66c586023d1e"
      },
      "execution_count": null,
      "outputs": [
        {
          "output_type": "stream",
          "name": "stdout",
          "text": [
            "False\n",
            "False\n"
          ]
        }
      ]
    },
    {
      "cell_type": "code",
      "source": [
        "list1 = [1,2,3,4,5]\n",
        "list2 = list1 # list ka refernce\n",
        "list1.append(6) # [1, 2, 3, 4, 5, 6]\n",
        "print(\"list2>>>\",list2)\n"
      ],
      "metadata": {
        "colab": {
          "base_uri": "https://localhost:8080/"
        },
        "id": "eAv32cb8e94n",
        "outputId": "a9d2d193-0cff-4cff-dbb8-51260b8bbb4b"
      },
      "execution_count": null,
      "outputs": [
        {
          "output_type": "stream",
          "name": "stdout",
          "text": [
            "list2>>> [1, 2, 3, 4, 5, 6]\n"
          ]
        }
      ]
    },
    {
      "cell_type": "code",
      "source": [
        "value1: str = \"How are you? \"\n",
        "value2: str = value1\n",
        "print(value2)"
      ],
      "metadata": {
        "colab": {
          "base_uri": "https://localhost:8080/"
        },
        "id": "njS4j3bKgfro",
        "outputId": "f638f162-504e-4e01-bffc-14561fe66f6a"
      },
      "execution_count": null,
      "outputs": [
        {
          "output_type": "stream",
          "name": "stdout",
          "text": [
            "How are you? \n"
          ]
        }
      ]
    },
    {
      "cell_type": "code",
      "source": [
        "def get_sqr_list(n:int):\n",
        "  for num in range(n):\n",
        "    print(\"num>>>\",num)\n",
        "get_sqr_list(5)"
      ],
      "metadata": {
        "colab": {
          "base_uri": "https://localhost:8080/"
        },
        "id": "mGGPEbPhhfk7",
        "outputId": "c0f6dbd9-5046-4472-ac0f-47207b7567df"
      },
      "execution_count": null,
      "outputs": [
        {
          "output_type": "stream",
          "name": "stdout",
          "text": [
            "num>>> 0\n",
            "num>>> 1\n",
            "num>>> 2\n",
            "num>>> 3\n",
            "num>>> 4\n"
          ]
        }
      ]
    },
    {
      "cell_type": "code",
      "source": [
        "sqr_list = []\n",
        "def get_sqr_list(n:int):\n",
        "  for num in range(n,5):\n",
        "    sqr_num=num*num\n",
        "    sqr_list.append(sqr_num)\n",
        "    print(\"num>>>\",num)\n",
        "get_sqr_list(5)\n",
        "print(sqr_list)"
      ],
      "metadata": {
        "colab": {
          "base_uri": "https://localhost:8080/"
        },
        "id": "3q2HaiXjii2k",
        "outputId": "c8b9c11a-7962-4700-f0f9-647bc2d5a68b"
      },
      "execution_count": null,
      "outputs": [
        {
          "output_type": "stream",
          "name": "stdout",
          "text": [
            "[]\n"
          ]
        }
      ]
    },
    {
      "cell_type": "code",
      "source": [
        "def get_sqr_list(n: int):\n",
        "    sqr_list = []  # Initialize sqr_list inside the function\n",
        "    for num in range(n):  # Iterate using the input 'n'\n",
        "        sqr_num = num * num\n",
        "        sqr_list.append(sqr_num)\n",
        "        print(\"num>>>\", num)\n",
        "    print(sqr_list)  # Print sqr_list inside the function\n",
        "\n",
        "get_sqr_list(5)  # Call the function with the desired input\n"
      ],
      "metadata": {
        "colab": {
          "base_uri": "https://localhost:8080/"
        },
        "id": "e8SFXHpnjx90",
        "outputId": "e1ddd4e8-0aae-4c1d-9ab9-0ee82406a489"
      },
      "execution_count": null,
      "outputs": [
        {
          "output_type": "stream",
          "name": "stdout",
          "text": [
            "num>>> 0\n",
            "num>>> 1\n",
            "num>>> 2\n",
            "num>>> 3\n",
            "num>>> 4\n",
            "[0, 1, 4, 9, 16]\n"
          ]
        }
      ]
    },
    {
      "cell_type": "code",
      "source": [
        "def get_sqr_list(n:int):\n",
        "  for num in range (n):\n",
        "    num*num\n",
        "  sqr_list=[num*num for num in range(n)]"
      ],
      "metadata": {
        "id": "Wg8qg-3NkcDr"
      },
      "execution_count": null,
      "outputs": []
    },
    {
      "cell_type": "code",
      "source": [
        "numbers = [1,2,3,4,5,6,7,8,9,10]\n",
        "even_numbers = [num for num in numbers if num%2==0]\n",
        "# The variable 'num' is not accessible outside the list comprehension above.\n",
        "# You need to iterate over the 'numbers' list again to use 'num'.\n",
        "even_numbers= []\n",
        "for num in numbers:  # Iterate through the 'numbers' list\n",
        "  if num % 2 == 0:\n",
        "    even_numbers.append(num)\n",
        "print(even_numbers)\n",
        "print(10  %2)\n"
      ],
      "metadata": {
        "colab": {
          "base_uri": "https://localhost:8080/"
        },
        "id": "sVTAuG6slDkI",
        "outputId": "7697b9c1-2053-499c-c62f-4ace12205448"
      },
      "execution_count": null,
      "outputs": [
        {
          "output_type": "stream",
          "name": "stdout",
          "text": [
            "[2, 4, 6, 8, 10]\n",
            "0\n"
          ]
        }
      ]
    },
    {
      "cell_type": "code",
      "source": [
        "# number ko return kro agr number wo even he\n",
        "even_list = [num*num for num in numbers if num % 2==0]\n",
        "print(even_list)"
      ],
      "metadata": {
        "colab": {
          "base_uri": "https://localhost:8080/"
        },
        "id": "caEf1GrZmaK9",
        "outputId": "d6229518-ba70-4928-de7b-7487976a4690"
      },
      "execution_count": null,
      "outputs": [
        {
          "output_type": "stream",
          "name": "stdout",
          "text": [
            "[4, 16, 36, 64, 100]\n"
          ]
        }
      ]
    },
    {
      "cell_type": "code",
      "source": [
        "def get_numbers():\n",
        "  reslut  = [] # reslut variable name\n",
        "  for  num in range(1,11):\n",
        "    reslut.append(num)\n",
        "  return reslut # The variable name is reslut\n",
        "\n",
        "  numbers_list= get_numbers()\n",
        "  print(numbers_list)\n",
        "print(get_numbers())"
      ],
      "metadata": {
        "colab": {
          "base_uri": "https://localhost:8080/"
        },
        "id": "fX6uQrOInqsO",
        "outputId": "9478b220-a608-45fc-ff21-477d46390c6f"
      },
      "execution_count": null,
      "outputs": [
        {
          "output_type": "stream",
          "name": "stdout",
          "text": [
            "[1, 2, 3, 4, 5, 6, 7, 8, 9, 10]\n"
          ]
        }
      ]
    },
    {
      "cell_type": "code",
      "source": [
        "def get_generated_values():\n",
        "  for num in range(0,11):\n",
        "    yield num # 0\n",
        "\n",
        "    result=get_generated_values()\n",
        "    print(next(result))\n",
        "    print(next(result))\n",
        "    print(next(result))\n",
        "    print(next(result))\n",
        "    print(next(result))\n",
        "    print(next(result))\n",
        "    print(next(result))\n",
        "    print(next(result))\n",
        "    print(next(result))\n",
        "    print(next(result))\n",
        "\n",
        "\n"
      ],
      "metadata": {
        "id": "gXEPUqNWpb8C"
      },
      "execution_count": null,
      "outputs": []
    },
    {
      "cell_type": "code",
      "source": [
        "def get_generated_values():\n",
        "  for num in range(0,11):\n",
        "    yield num # 0\n",
        "\n",
        "# Remove the extra, incorrect definition of get_generated_values\n",
        "# and the calls to next(result) which was not defined correctly.\n",
        "\n",
        "for numresult in get_generated_values():\n",
        "    print(numresult)"
      ],
      "metadata": {
        "id": "Sy9B4_nJqwQh",
        "colab": {
          "base_uri": "https://localhost:8080/"
        },
        "outputId": "9ad92501-bb69-4489-fa87-03e9a7dff5ca"
      },
      "execution_count": null,
      "outputs": [
        {
          "output_type": "stream",
          "name": "stdout",
          "text": [
            "0\n",
            "1\n",
            "2\n",
            "3\n",
            "4\n",
            "5\n",
            "6\n",
            "7\n",
            "8\n",
            "9\n",
            "10\n"
          ]
        }
      ]
    },
    {
      "cell_type": "code",
      "source": [
        "# 1 - is vs ==\n",
        "\n",
        "# 2- Generators\n",
        "\n",
        "# 3- List Comprehension\n",
        "\n",
        "\n",
        "# string\n",
        "# Integer\n",
        "# float\n",
        "# boolean\n",
        "# list\n",
        "# tuple\n",
        "# dict\n",
        "# set\n",
        "# None\n",
        "\n",
        "# Mutable Data Types (jo change ho ske)\n",
        "\n",
        "\n",
        "# list\n",
        "# dictionary\n",
        "# set\n",
        "\n",
        "# Immutable (jo change na ho ske)\n",
        "\n",
        "\n",
        "# string\n",
        "# integer\n",
        "# boolean\n",
        "# tuple\n",
        "# float\n",
        "# None\n",
        "\n",
        "\n",
        "dishes = [\"samose\", \"pakore\", \"fruit chat\"]\n",
        "dishes.append(\"ice cream\")\n",
        "print(dishes)\n",
        "\n",
        "['samose', 'pakore', 'fruit chat', 'ice cream']\n",
        "\n",
        "name: str = \"Aneeq Khatri\"\n",
        "number: int= 20\n",
        "\n",
        "print(name)\n",
        "\n",
        "  Aneeq Khatri\n",
        "\n",
        "list1 = [1,2,3,4,5]\n",
        "list2 = [1,2,3,4,5]\n",
        "\n",
        "print(list1 == list2)\n",
        "print(list1 is list2)\n",
        "\n",
        "True\n",
        "False\n",
        "\n",
        "list1 = [1,2,3,4,5]\n",
        "list2 = list1\n",
        "\n",
        "print(list1 == list2)\n",
        "print(list1 is list2)\n",
        "\n",
        "True\n",
        "True\n",
        "\n",
        "name1 = \"Aneeq how are you? i am fine\"\n",
        "name2 = \"Aneeq how are you? i am fine\"\n",
        "num1 =\n",
        "num2 = 2.5\n",
        "\n",
        "bool1 = True\n",
        "bool2 = True\n",
        "\n",
        "print(name1 is name2)\n",
        "print(num1  is num2)\n",
        "print(bool1 is bool2)\n",
        "\n",
        "False\n",
        "False\n",
        "True\n",
        "\n",
        "list1 = [1,2,3,4,5]\n",
        "list2 = list1  # list1 ka reference\n",
        "list1.append(6) # [1,2,3,4,5,6]\n",
        "\n",
        "print(\"list2>>>\",list2) # list1 ka reference\n",
        "\n",
        "list2>>> [1, 2, 3, 4, 5, 6]\n",
        "\n",
        "value1: str = \"how are you? \"\n",
        "value2: str = value1 #  \"how are you? \"\n",
        "\n",
        "value1 = \"I am fine\"\n",
        "value2 = value1 # \"I am fine\"\n",
        "\n",
        "print(value2)\n",
        "\n",
        "I am fine\n",
        "\n",
        "\n",
        "sqr_list = []\n",
        "def get_sqr_list(n: int):\n",
        "   for num in range(0,n):  #[0,1,2,3,4]\n",
        "    # print(\"num>>>\",num)\n",
        "    sqr_num = num * num # 0 * 0 -> 1 * 1 -> 2 * 2\n",
        "    # print(\"sqr_num>>\",sqr_num)\n",
        "    sqr_list.append(sqr_num) # [] -> [0] -> [0,1] ->  [0,1,4]\n",
        "\n",
        "get_sqr_list(5)\n",
        "print(sqr_list)\n",
        "\n",
        "[0, 1, 4, 9, 16]\n",
        "\n",
        "\n",
        "def get_sqr_list(n: int):\n",
        "  # for num in range(n):\n",
        "        # num * num\n",
        "    # sqr_list = [output loop with condition]\n",
        "  # sqr_list = [num * num for num in range(n)]\n",
        "  sqr_list = [num * num for num in range(5)]\n",
        "  print(\"sqr_list>>>\",sqr_list)\n",
        "\n",
        "\n",
        "get_sqr_list(5)\n",
        "\n",
        "\n",
        "sqr_list>>> [0, 1, 4, 9, 16]\n",
        "\n",
        "numbers = [1,2,3,4,5,6,7,8,9,10]\n",
        "even_numbers = []\n",
        "\n",
        "# if num % 2 == 0:\n",
        "#    print(\"number is even\")\n",
        "# print(13  % 2 )\n",
        "\n",
        "for num in numbers:\n",
        "  if num % 2 == 0:\n",
        "    even_numbers.append(num)\n",
        "\n",
        "print(even_numbers)\n",
        "\n",
        "\n",
        "\n",
        "[2, 4, 6, 8, 10]\n",
        "\n",
        "numbers = [1,2,3,4,5,6,7,8,9,10]\n",
        "#  num ko return kro agr num wo even he\n",
        "even_list = [num for num in numbers if num % 2 == 0]\n",
        "\n",
        "print(even_list)\n",
        "\n",
        "[2, 4, 6, 8, 10]\n",
        "\n",
        "def get_numbers():\n",
        "  result = []\n",
        "  for num in range(0,11):\n",
        "    result.append(num)\n",
        "  return result\n",
        "\n",
        "\n",
        "number_list =get_numbers()\n",
        "print(number_list)\n",
        "\n",
        "\n",
        "[0, 1, 2, 3, 4, 5, 6, 7, 8, 9, 10]\n",
        "\n",
        "def get_generated_values():\n",
        "  for num in range(0,11):\n",
        "    yield num  # 0 -> 1\n",
        "\n",
        "\n",
        "result = get_generated_values()\n",
        "# print(next(result))\n",
        "# print(next(result))\n",
        "# print(next(result))\n",
        "# print(next(result))\n",
        "# print(next(result))\n",
        "# print(next(result))\n",
        "# print(next(result))\n",
        "# print(next(result))\n",
        "# print(next(result))\n",
        "# print(next(result))\n",
        "# print(next(result))\n",
        "\n",
        "for num in result:\n",
        "  print(\"nuum>>>\",num)\n",
        "\n",
        "\n",
        "# print(\"result>>\",result)\n",
        "\n",
        "nuum>>> 0\n",
        "nuum>>> 1\n",
        "nuum>>> 2\n",
        "nuum>>> 3\n",
        "nuum>>> 4\n",
        "nuum>>> 5\n",
        "nuum>>> 6\n",
        "nuum>>> 7\n",
        "nuum>>> 8\n",
        "nuum>>> 9\n",
        "nuum>>> 10\n"
      ],
      "metadata": {
        "colab": {
          "base_uri": "https://localhost:8080/",
          "height": 106
        },
        "id": "u2AdE6DDgcG6",
        "outputId": "1255867d-d919-447d-cc6e-6b7d841b1851"
      },
      "execution_count": null,
      "outputs": [
        {
          "output_type": "error",
          "ename": "SyntaxError",
          "evalue": "invalid syntax (<ipython-input-5-ffb8e3df034e>, line 69)",
          "traceback": [
            "\u001b[0;36m  File \u001b[0;32m\"<ipython-input-5-ffb8e3df034e>\"\u001b[0;36m, line \u001b[0;32m69\u001b[0m\n\u001b[0;31m    num1 =\u001b[0m\n\u001b[0m          ^\u001b[0m\n\u001b[0;31mSyntaxError\u001b[0m\u001b[0;31m:\u001b[0m invalid syntax\n"
          ]
        }
      ]
    },
    {
      "cell_type": "code",
      "source": [
        "def get_generated_values():\n",
        "  for num in range(0,11):\n",
        "    yield num  # 0 -> 1\n",
        "\n",
        "\n",
        "result = get_generated_values()\n",
        "print(next(result))\n",
        "print(next(result))\n",
        "print(next(result))\n",
        "print(next(result))\n",
        "print(next(result))\n",
        "print(next(result))\n",
        "print(next(result))\n",
        "print(next(result))\n",
        "print(next(result))\n",
        "print(next(result))\n",
        "print(next(result))\n",
        "\n",
        "for num in result:\n",
        "  print(\"nuum>>>\",num)\n",
        "\n",
        "\n",
        "print(\"result>>\",result)\n"
      ],
      "metadata": {
        "colab": {
          "base_uri": "https://localhost:8080/"
        },
        "id": "MPoshwZTngWR",
        "outputId": "ead84733-99f5-4a54-e91c-6125456d9984"
      },
      "execution_count": null,
      "outputs": [
        {
          "output_type": "stream",
          "name": "stdout",
          "text": [
            "0\n",
            "1\n",
            "2\n",
            "3\n",
            "4\n",
            "5\n",
            "6\n",
            "7\n",
            "8\n",
            "9\n",
            "10\n",
            "result>> <generator object get_generated_values at 0x7f89585afed0>\n"
          ]
        }
      ]
    },
    {
      "cell_type": "code",
      "source": [
        "dishes = [\"samose\", \"pakore\", \"fruit chat\"]\n",
        "dishes.append(\"ice cream\")\n",
        "print(dishes)\n",
        "\n",
        "['samose', 'pakore', 'fruit chat', 'ice cream']\n",
        "\n",
        "name: str = \"Aneeq Khatri\"\n",
        "number: int= 20\n",
        "\n",
        "print(name)\n"
      ],
      "metadata": {
        "colab": {
          "base_uri": "https://localhost:8080/"
        },
        "id": "T-GwrJlTtAq2",
        "outputId": "3417f30f-57b7-4cad-d247-ae3d3bf24d22"
      },
      "execution_count": null,
      "outputs": [
        {
          "output_type": "stream",
          "name": "stdout",
          "text": [
            "['samose', 'pakore', 'fruit chat', 'ice cream']\n",
            "Aneeq Khatri\n"
          ]
        }
      ]
    },
    {
      "cell_type": "code",
      "source": [
        "list1 = [1,2,3,4,5]\n",
        "list2 = [1,2,3,4,5]\n",
        "\n",
        "print(list1 == list2)\n",
        "print(list1 is list2)\n"
      ],
      "metadata": {
        "colab": {
          "base_uri": "https://localhost:8080/"
        },
        "id": "RwX-ZvOtmErh",
        "outputId": "76303a5a-6e42-4a00-fc2f-f7ffc501515a"
      },
      "execution_count": null,
      "outputs": [
        {
          "output_type": "stream",
          "name": "stdout",
          "text": [
            "True\n",
            "False\n"
          ]
        }
      ]
    },
    {
      "cell_type": "code",
      "source": [
        "list1 = [1,2,3,4,5]\n",
        "list2 = list1\n",
        "\n",
        "print(list1 == list2)\n",
        "print(list1 is list2)\n"
      ],
      "metadata": {
        "colab": {
          "base_uri": "https://localhost:8080/"
        },
        "id": "QvaKnAbGuUa7",
        "outputId": "28d48950-4340-4d35-cb5a-10edf73d079d"
      },
      "execution_count": null,
      "outputs": [
        {
          "output_type": "stream",
          "name": "stdout",
          "text": [
            "True\n",
            "True\n"
          ]
        }
      ]
    },
    {
      "cell_type": "code",
      "source": [
        "name1 = \"Aneeq how are you? i am fine\"\n",
        "name2 = \"Aneeq how are you? i am fine\"\n",
        "num1 = 3.5\n",
        "num2 = 2.5\n",
        "\n",
        "bool1 = True\n",
        "bool2 = True\n",
        "\n",
        "print(name1 is name2)\n",
        "print(num1  is num2)\n",
        "print(bool1 is bool2)\n"
      ],
      "metadata": {
        "colab": {
          "base_uri": "https://localhost:8080/"
        },
        "id": "LB0AtO4UyPjC",
        "outputId": "9e00401d-b71d-4308-b5b9-af25655998f6"
      },
      "execution_count": null,
      "outputs": [
        {
          "output_type": "stream",
          "name": "stdout",
          "text": [
            "False\n",
            "False\n",
            "True\n"
          ]
        }
      ]
    },
    {
      "cell_type": "code",
      "source": [
        "list1 = [1,2,3,4,5]\n",
        "list2 = list1  # list1 ka reference\n",
        "list1.append(6) # [1,2,3,4,5,6]\n",
        "\n",
        "print(\"list2>>>\",list2) # list1 ka reference\n",
        "\n",
        "list2>>> [1, 2, 3, 4, 5, 6]\n",
        "\n",
        "value1: str = \"how are you? \"\n",
        "value2: str = value1 #  \"how are you? \"\n",
        "\n",
        "value1 = \"I am fine\"\n",
        "value2 = value1 # \"I am fine\"\n",
        "\n",
        "print(value2)\n",
        "\n",
        "I am fine\n"
      ],
      "metadata": {
        "colab": {
          "base_uri": "https://localhost:8080/",
          "height": 106
        },
        "id": "wds8fuuZzO-P",
        "outputId": "6fa7135d-97e9-454e-835c-421e2d4f2ac6"
      },
      "execution_count": null,
      "outputs": [
        {
          "output_type": "error",
          "ename": "SyntaxError",
          "evalue": "invalid syntax (<ipython-input-17-4daaf9dd4225>, line 7)",
          "traceback": [
            "\u001b[0;36m  File \u001b[0;32m\"<ipython-input-17-4daaf9dd4225>\"\u001b[0;36m, line \u001b[0;32m7\u001b[0m\n\u001b[0;31m    list2>>> [1, 2, 3, 4, 5, 6]\u001b[0m\n\u001b[0m           ^\u001b[0m\n\u001b[0;31mSyntaxError\u001b[0m\u001b[0;31m:\u001b[0m invalid syntax\n"
          ]
        }
      ]
    }
  ]
}