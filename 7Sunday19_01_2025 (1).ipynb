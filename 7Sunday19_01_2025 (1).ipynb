{
  "nbformat": 4,
  "nbformat_minor": 0,
  "metadata": {
    "colab": {
      "provenance": []
    },
    "kernelspec": {
      "name": "python3",
      "display_name": "Python 3"
    },
    "language_info": {
      "name": "python"
    }
  },
  "cells": [
    {
      "cell_type": "code",
      "execution_count": null,
      "metadata": {
        "colab": {
          "base_uri": "https://localhost:8080/"
        },
        "id": "jcvT6A9N0GoI",
        "outputId": "e48cad36-0a01-4504-ce7b-e309ba539b6d"
      },
      "outputs": [
        {
          "output_type": "stream",
          "name": "stdout",
          "text": [
            "{}\n",
            "{'Ali': '1009876', 'muhammad': '1009877', 'Fatima': '1009878'}\n",
            "1009878\n",
            "['ahsen', 10, 10]\n",
            "1009878\n",
            "['ahsen', 10, 10]\n"
          ]
        }
      ],
      "source": [
        " # key: value\n",
        " my_dict={}\n",
        " our_dict={\"Ali\":\"1009876\",\"muhammad\":\"1009877\",\"Fatima\":\"1009878\"}\n",
        " # key: value\n",
        " my_dict={}\n",
        " our_dict={\"Ali\":\"1009876\",\"muhammad\":\"1009877\",\"Fatima\":\"1009878\"}\n",
        " contact=[\"ali\",109]\n",
        " student=[\"ahsen\",10,10]\n",
        " name={\"ahsen\":\"010\",\"rollno\":\"010\",\"class\":10} # corrected this line\n",
        " print(my_dict)\n",
        " print(our_dict)\n",
        " print(our_dict[\"Fatima\"]) #find\n",
        " print(student)\n",
        " print(our_dict[\"Fatima\"])\n",
        " print(student)"
      ]
    },
    {
      "cell_type": "code",
      "source": [
        "people={\"name\":\"ali\",\"Age\":\"20\",\"class\":\"sunday7-10\"}\n",
        "print(people)\n"
      ],
      "metadata": {
        "colab": {
          "base_uri": "https://localhost:8080/"
        },
        "id": "1jkEgQGNFMeq",
        "outputId": "0eebbc78-6a1b-4905-cb7f-6ea9f11b09c4"
      },
      "execution_count": null,
      "outputs": [
        {
          "output_type": "stream",
          "name": "stdout",
          "text": [
            "{'name': 'ali', 'Age': '20', 'class': 'sunday7-10'}\n"
          ]
        }
      ]
    },
    {
      "cell_type": "code",
      "source": [
        "def charger ():\n",
        "  print(\"Charge Mobile\")\n",
        "\n",
        "charger()"
      ],
      "metadata": {
        "colab": {
          "base_uri": "https://localhost:8080/"
        },
        "id": "mHrBZptQORKM",
        "outputId": "0312cf4d-1cd9-4848-e28b-a85b9e3cd3e4"
      },
      "execution_count": null,
      "outputs": [
        {
          "output_type": "stream",
          "name": "stdout",
          "text": [
            "Charge Mobile\n"
          ]
        }
      ]
    },
    {
      "cell_type": "code",
      "source": [
        "def ramokaka():\n",
        "  print(\"ramo Kaka biryani Banao\")\n",
        "\n",
        "ramokaka()"
      ],
      "metadata": {
        "colab": {
          "base_uri": "https://localhost:8080/"
        },
        "id": "Idn-gSQ8RPsm",
        "outputId": "2a93c667-f642-4477-b68b-590f9d57f8b6"
      },
      "execution_count": null,
      "outputs": [
        {
          "output_type": "stream",
          "name": "stdout",
          "text": [
            "ramo Kaka biryani Banao\n"
          ]
        }
      ]
    },
    {
      "cell_type": "code",
      "source": [
        "a=1\n",
        "b=4\n",
        "\n",
        "def add():\n",
        "  return a+b\n",
        "\n",
        "sum=add()\n",
        "print(sum)"
      ],
      "metadata": {
        "colab": {
          "base_uri": "https://localhost:8080/"
        },
        "id": "3x5I42VyTn9V",
        "outputId": "3ef25f16-32a1-4575-b989-52d9d055da9a"
      },
      "execution_count": null,
      "outputs": [
        {
          "output_type": "stream",
          "name": "stdout",
          "text": [
            "5\n"
          ]
        }
      ]
    },
    {
      "cell_type": "code",
      "source": [
        "def ramo_kaka():\n",
        "  return \"Biryani bangayi\"\n",
        "\n",
        "plate=ramo_kaka()\n",
        "print(plate)"
      ],
      "metadata": {
        "colab": {
          "base_uri": "https://localhost:8080/"
        },
        "id": "QkXXvgD0WbtM",
        "outputId": "1986e612-e649-4906-dc44-9dc43cc3fd86"
      },
      "execution_count": null,
      "outputs": [
        {
          "output_type": "stream",
          "name": "stdout",
          "text": [
            "Biryani bangayi\n"
          ]
        }
      ]
    },
    {
      "cell_type": "code",
      "source": [
        "# parameter\n",
        "def greet(name,age):\n",
        "  print(\"Assalam o Alekum Sir\",name,\"your age is\",age)\n",
        "\n",
        "# argumemt\n",
        "greet(\"ali\",23)"
      ],
      "metadata": {
        "colab": {
          "base_uri": "https://localhost:8080/"
        },
        "id": "IyDEJhm0YnLW",
        "outputId": "c2fdfd96-8d56-40cf-b6ae-06645ec12382"
      },
      "execution_count": null,
      "outputs": [
        {
          "output_type": "stream",
          "name": "stdout",
          "text": [
            "Assalam o Alekum Sir ali your age is 23\n"
          ]
        }
      ]
    },
    {
      "cell_type": "code",
      "source": [
        "#\n",
        "num1=int=10\n",
        "num2=int=20\n",
        "def addition(num1:int,num2:int):\n",
        "  return num1+num2\n",
        "\n",
        "addition(10,20)"
      ],
      "metadata": {
        "colab": {
          "base_uri": "https://localhost:8080/"
        },
        "id": "3ZtC1FcJeOfg",
        "outputId": "0dec93d7-fe56-4276-d165-1e5b633e529f"
      },
      "execution_count": null,
      "outputs": [
        {
          "output_type": "execute_result",
          "data": {
            "text/plain": [
              "30"
            ]
          },
          "metadata": {},
          "execution_count": 75
        }
      ]
    }
  ]
}