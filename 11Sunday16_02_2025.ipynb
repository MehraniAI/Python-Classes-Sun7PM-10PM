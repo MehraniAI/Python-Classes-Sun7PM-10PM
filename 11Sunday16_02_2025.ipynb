{
  "nbformat": 4,
  "nbformat_minor": 0,
  "metadata": {
    "colab": {
      "provenance": []
    },
    "kernelspec": {
      "name": "python3",
      "display_name": "Python 3"
    },
    "language_info": {
      "name": "python"
    }
  },
  "cells": [
    {
      "cell_type": "code",
      "execution_count": null,
      "metadata": {
        "colab": {
          "base_uri": "https://localhost:8080/"
        },
        "id": "A-VCXorvDhV4",
        "outputId": "ff4ea485-9e56-410f-f162-912d7c037fdc"
      },
      "outputs": [
        {
          "output_type": "stream",
          "name": "stdout",
          "text": [
            "{'name': 'hayan', 'CGPA': 3.5, 'studying': 'BS Maths'}\n",
            "<class 'dict'>\n",
            "my favourate dream serail is kurulus Usman\n",
            "ertugrul ghazi is my favourite drama serial after the  kurulus Usman\n",
            "suleman shah the dreamer\n",
            "Etyuguri ghazi the dreamer\n",
            "usman the dreamer\n",
            "Orhan the dreamer\n",
            "the tea was fantastic said by Orhan\n"
          ]
        }
      ],
      "source": [
        "info={\"name\":\"Aryan\",\"CGPA\":3.5,\"studying\":\"BS Maths\"}\n",
        "info[\"name\"]=\"hayan\"\n",
        "print(info)\n",
        "print(type(info))\n",
        "drama1=\"kurulus Usman\"\n",
        "drama2=\"ertugrul ghazi\"\n",
        "print(\"my favourate dream serail is\",drama1)\n",
        "print(drama2,\"is my favourite drama serial after the \",drama1)\n",
        "list=[\"suleman shah\",\"Etyuguri ghazi\",\"usman\", \"Orhan\",\"naden\" ]\n",
        "list.append(\"Sultan abdul Hameed\")\n",
        "print(list[0],\"the dreamer\")\n",
        "print(list[1],\"the dreamer\")\n",
        "print(list[2],\"the dreamer\")\n",
        "print(list[3],\"the dreamer\")\n",
        "print(\"the tea was fantastic said by\",list[3])"
      ]
    },
    {
      "cell_type": "code",
      "source": [
        "# Today's class topics* 16-02-2025\n",
        "# 1. Ternary Operators.\n",
        "# 2. Enumerated Function.\n",
        "# 3. Map, Filter, Reduce Function.\n",
        "\n",
        "# Assignments*\n",
        "# 1. Reduce function.\n",
        "# 2. Make repository on github and use basic commands.\n",
        "# *Announcement*\n",
        "# Attend Tuesday class 7-10pm as a guest."
      ],
      "metadata": {
        "id": "QN4pFjITEbdb"
      },
      "execution_count": null,
      "outputs": []
    },
    {
      "cell_type": "code",
      "source": [
        "num: int=9\n",
        "if num>10:\n",
        "  print(\"number is greater than 10\")\n",
        "  num=num+10\n",
        "  print(\"num>>>,num\")\n",
        "else:\n",
        "  print(\"number is less than 10\")\n",
        "  # if stat4ement if condition elelse statement\n",
        "  num=int=9\n",
        "  print(\"number is greater than 10\") if num>10 else print(\"number is less than 10\")\n",
        "\n",
        "\n"
      ],
      "metadata": {
        "colab": {
          "base_uri": "https://localhost:8080/"
        },
        "id": "XOeqIjISJIgH",
        "outputId": "2da3b9d3-5414-4002-d492-2c781d1e6ebc"
      },
      "execution_count": null,
      "outputs": [
        {
          "output_type": "stream",
          "name": "stdout",
          "text": [
            "number is less than 10\n",
            "number is less than 10\n"
          ]
        }
      ]
    },
    {
      "cell_type": "code",
      "source": [
        "# num2= ager condion true to value 20 value 10 ternoary\n",
        "num=5\n",
        "num2=20 if num < 10 else 5\n",
        "print(\"num2>>>\",num2)"
      ],
      "metadata": {
        "colab": {
          "base_uri": "https://localhost:8080/"
        },
        "id": "uAntfM8zLY4K",
        "outputId": "895f76b6-4903-44da-a8ff-f859312e3a04"
      },
      "execution_count": null,
      "outputs": [
        {
          "output_type": "stream",
          "name": "stdout",
          "text": [
            "num2>>> 20\n"
          ]
        }
      ]
    },
    {
      "cell_type": "code",
      "source": [
        "# Enumerated Function\n",
        "names=[\"Ali\",\"Abullah\",\"Aamir\"]\n",
        "print(names[1])\n",
        "for name in names:\n",
        "  if names[1]==\"Abullah\":\n",
        "    print(\" Assalamulakum Abullah found\")\n",
        "    print(name)\n",
        "    break\n",
        "else:\n",
        "  print(\"Abullah not found\")"
      ],
      "metadata": {
        "colab": {
          "base_uri": "https://localhost:8080/"
        },
        "id": "refvYFWoOVbE",
        "outputId": "19fca641-d644-4a93-ed15-2383bfedc2e9"
      },
      "execution_count": null,
      "outputs": [
        {
          "output_type": "stream",
          "name": "stdout",
          "text": [
            "Abullah\n",
            " Assalamulakum Abullah found\n",
            "Ali\n"
          ]
        }
      ]
    },
    {
      "cell_type": "code",
      "source": [
        "names=[\"Ali\",\"Abullah\",\"Aamir\"]\n",
        "print(names[1])\n",
        "index=0\n",
        "for name in names:\n",
        "  print(\"index\", index)\n",
        "  index += 1\n",
        "  print(f\"name{index}:{name}\")\n"
      ],
      "metadata": {
        "colab": {
          "base_uri": "https://localhost:8080/"
        },
        "id": "CAhvOCvESFPX",
        "outputId": "da4c1abe-3c4a-468a-f2b1-39b459f84ab1"
      },
      "execution_count": null,
      "outputs": [
        {
          "output_type": "stream",
          "name": "stdout",
          "text": [
            "Abullah\n",
            "index 0\n",
            "name1:Ali\n",
            "index 1\n",
            "name2:Abullah\n",
            "index 2\n",
            "name3:Aamir\n"
          ]
        }
      ]
    },
    {
      "cell_type": "code",
      "source": [
        "names=[\"Ali\",\"Abullah\",\"Aamir\"]\n",
        "# index =0\n",
        "# for name is names:\n",
        "# print (f\"name{index}:{name}\")\n",
        "for index,name in enumerate(names):\n",
        "  # names[0]=ali 1st time loop\n",
        "  # names[1]=abdullah 2nd time loop\n",
        "  # abdullah==\"Abdullah\"\n",
        "  if names[index]==\"Abullah\":\n",
        "    print(\"Assalamulaikum Abdullah\")\n",
        "    print(f\"name{index}:{name}\")\n"
      ],
      "metadata": {
        "colab": {
          "base_uri": "https://localhost:8080/"
        },
        "id": "k-tH02fET1KA",
        "outputId": "ed411888-b18c-4caf-ed4d-059662403a34"
      },
      "execution_count": null,
      "outputs": [
        {
          "output_type": "stream",
          "name": "stdout",
          "text": [
            "Assalamulaikum Abdullah\n",
            "name1:Abullah\n"
          ]
        }
      ]
    },
    {
      "cell_type": "code",
      "source": [
        "# Map,filter,reduce functions\n",
        "numbers=[1,2,3,4,5]\n",
        "def square(num:int):\n",
        "  return num*num\n",
        "\n",
        "new_list=[]\n",
        "for num in numbers:\n",
        "  print(f\"num>>>{num}\")\n",
        "  print(\"Calling square function\")\n",
        "  num_sqr=square(num)\n",
        "  print(f\"square value{num_sqr}\")\n",
        "  new_list.append(square(num))\n",
        "  print(new_list)\n"
      ],
      "metadata": {
        "colab": {
          "base_uri": "https://localhost:8080/"
        },
        "id": "zuVcyGrpZkOx",
        "outputId": "4ca0dee9-ba36-4f00-8952-8eff60a9a253"
      },
      "execution_count": null,
      "outputs": [
        {
          "output_type": "stream",
          "name": "stdout",
          "text": [
            "num>>>1\n",
            "Calling square function\n",
            "square value1\n",
            "[1]\n",
            "num>>>2\n",
            "Calling square function\n",
            "square value4\n",
            "[1, 4]\n",
            "num>>>3\n",
            "Calling square function\n",
            "square value9\n",
            "[1, 4, 9]\n",
            "num>>>4\n",
            "Calling square function\n",
            "square value16\n",
            "[1, 4, 9, 16]\n",
            "num>>>5\n",
            "Calling square function\n",
            "square value25\n",
            "[1, 4, 9, 16, 25]\n"
          ]
        }
      ]
    },
    {
      "cell_type": "code",
      "source": [
        "# map\n",
        "numbers=[1,2,3,4,5]\n",
        "def square(num:int):\n",
        "    return num*num\n",
        "\n",
        "new_list=list(map(square,numbers))\n",
        "print(\"numbers>>>\",numbers)\n",
        "print(\"new_list>>>\",new_list)\n",
        "\n"
      ],
      "metadata": {
        "colab": {
          "base_uri": "https://localhost:8080/"
        },
        "id": "nwFpPcrRc_Qb",
        "outputId": "ddd488ad-36b8-4a8f-f085-32cff2ac69e5"
      },
      "execution_count": null,
      "outputs": [
        {
          "output_type": "stream",
          "name": "stdout",
          "text": [
            "numbers>>> [1, 2, 3, 4, 5]\n",
            "new_list>>> [1, 4, 9, 16, 25]\n"
          ]
        }
      ]
    },
    {
      "cell_type": "code",
      "source": [
        "pS d?\\GITHUB_FOLDER"
      ],
      "metadata": {
        "id": "xnj-ctIOpQQv"
      },
      "execution_count": null,
      "outputs": []
    },
    {
      "cell_type": "code",
      "source": [
        "# filter\n",
        "numbers=[1,2,3,4,5]\n",
        "def filter_function(num:int):\n",
        "  return num > 3\n",
        "filtered_list=list(filter(filter_function,numbers))\n",
        "print(\"numbers>>>\",numbers)\n",
        "print(\"filtered_list>>>\",filtered_list)\n",
        "\n",
        "\n"
      ],
      "metadata": {
        "id": "x_Z0gf3PKmol",
        "colab": {
          "base_uri": "https://localhost:8080/"
        },
        "outputId": "77b56034-96c1-4605-df34-c74beb38bc3a"
      },
      "execution_count": null,
      "outputs": [
        {
          "output_type": "stream",
          "name": "stdout",
          "text": [
            "numbers>>> [1, 2, 3, 4, 5]\n",
            "filtered_list>>> [4, 5]\n"
          ]
        }
      ]
    },
    {
      "cell_type": "code",
      "source": [
        "# map\n",
        "marks=[77,97,64,85,55]\n",
        "\n",
        "def grades(marks):\n",
        "  if marks >= 90:\n",
        "    return'A'\n",
        "  elif 80 <= marks < 90:\n",
        "    return 'B'\n",
        "  elif 70 <= marks < 80:\n",
        "    return 'C'\n",
        "  elif 60 <= marks < 70:\n",
        "    return 'D'\n",
        "  elif 50<=marks < 60:\n",
        "    return 'E'\n",
        "  else:\n",
        "    return 'F'\n",
        "grades=list(map(grades,marks))\n",
        "print(\"Exam Score:\",marks)\n",
        "print(\"grades:\",grades)\n",
        "\n"
      ],
      "metadata": {
        "id": "s2ZitHJFQM43",
        "colab": {
          "base_uri": "https://localhost:8080/"
        },
        "outputId": "03650dee-92d7-4380-90d2-f7c70f4b7ac0"
      },
      "execution_count": null,
      "outputs": [
        {
          "output_type": "stream",
          "name": "stdout",
          "text": [
            "Exam Score: [77, 97, 64, 85, 55]\n",
            "grades: ['C', 'A', 'D', 'B', 'E']\n"
          ]
        }
      ]
    },
    {
      "cell_type": "code",
      "source": [
        "# first we have to take from \"functool\" import \"reduce\" than,\n",
        "from functools import reduce\n",
        "\n",
        "# make a function and give two parameter like: (x,y); than,\n",
        "# return the parameter in your condition like: +,-,*,/ than ,\n",
        "def multi(a,r):\n",
        "    return a*r\n",
        "  # make list of numbers than,\n",
        "numbers=[1,2,3,4,5]\n",
        "  # make a variable = and import the reduce and in argument call (function,\"and write\" list)\n",
        "new_list=reduce(multi,numbers)\n",
        "  # than print the variable\n",
        "print(new_list)"
      ],
      "metadata": {
        "colab": {
          "base_uri": "https://localhost:8080/"
        },
        "id": "Cq3rkdOXUJfO",
        "outputId": "a387b761-ddb1-4477-aede-d7cd8fdc9abc"
      },
      "execution_count": null,
      "outputs": [
        {
          "output_type": "stream",
          "name": "stdout",
          "text": [
            "120\n"
          ]
        }
      ]
    },
    {
      "cell_type": "code",
      "source": [
        "# convert the filter function into map\n",
        "numbers=[1,2,3,4,5]\n",
        "def map_function(num:int):\n",
        "  return num > 3\n",
        "map_list=list(map(map_function,numbers))\n",
        "print(\"map_list>>>\",map_list)\n",
        "print(\"filtered_list>>>\",filtered_list)"
      ],
      "metadata": {
        "colab": {
          "base_uri": "https://localhost:8080/"
        },
        "id": "Yq1MJEQneNwb",
        "outputId": "7dae4c8a-797b-40bf-a8dd-eca47c8212f8"
      },
      "execution_count": null,
      "outputs": [
        {
          "output_type": "stream",
          "name": "stdout",
          "text": [
            "map_list>>> [False, False, False, True, True]\n",
            "filtered_list>>> [4, 5]\n"
          ]
        }
      ]
    }
  ]
}