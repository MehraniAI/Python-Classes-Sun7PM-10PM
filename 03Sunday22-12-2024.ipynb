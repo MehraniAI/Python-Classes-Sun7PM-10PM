{
  "nbformat": 4,
  "nbformat_minor": 0,
  "metadata": {
    "colab": {
      "provenance": []
    },
    "kernelspec": {
      "name": "python3",
      "display_name": "Python 3"
    },
    "language_info": {
      "name": "python"
    }
  },
  "cells": [
    {
      "cell_type": "code",
      "execution_count": null,
      "metadata": {
        "colab": {
          "base_uri": "https://localhost:8080/",
          "height": 106
        },
        "id": "9rVZOWC0sCUb",
        "outputId": "35c2309f-90c7-460a-cfb7-af46880aaca8"
      },
      "outputs": [
        {
          "output_type": "error",
          "ename": "IndentationError",
          "evalue": "expected an indented block after 'if' statement on line 38 (<ipython-input-4-199a237fbe53>, line 39)",
          "traceback": [
            "\u001b[0;36m  File \u001b[0;32m\"<ipython-input-4-199a237fbe53>\"\u001b[0;36m, line \u001b[0;32m39\u001b[0m\n\u001b[0;31m    if2>1:\u001b[0m\n\u001b[0m    ^\u001b[0m\n\u001b[0;31mIndentationError\u001b[0m\u001b[0;31m:\u001b[0m expected an indented block after 'if' statement on line 38\n"
          ]
        }
      ],
      "source": [
        "\n",
        "x:int=2\n",
        "y:int=3\n",
        "print((3*2)/(2*3))\n",
        "name:str=\"sir sohaib\"\n",
        "age:int=20\n",
        "isActive:bool=True\n",
        "#K-Electric on\n",
        "#UPS off\n",
        "k_electric:int=0 #on\n",
        "ups:int=1 #off\n",
        "K_electric=\"no_electric\"\n",
        "UPS=\"no ups\"\n",
        "print(name)\n",
        "print(age)\n",
        "print(k_electric==ups<1)\n",
        "\n",
        "# Agar Warna\n",
        "#If Else\n",
        "if True: #Added a condition, you'll need to replace True with your actual condition\n",
        "    if 2>1:\n",
        "        print(\"Hellow\")\n",
        "        uname=\"Sir sohaib\"\n",
        "        print(uname)\n",
        "UPS=\"no ups\"\n",
        "print(name)\n",
        "print(age)\n",
        "print(num1!=num2<1)\n",
        "\n",
        "# Agar Warna\n",
        "#If Else\n",
        "if condition:\n",
        "if2>1:\n",
        "  print(\"Hellow\")\n",
        "  uname=\"Sir sohaib\"\n",
        "  print(uname)\n"
      ]
    },
    {
      "cell_type": "code",
      "source": [
        "x:int=2\n",
        "y:int=3\n",
        "print((3*2)/(2*3))\n",
        "print(3+2)\n",
        "print(3-2)\n",
        "print(3*2)\n"
      ],
      "metadata": {
        "colab": {
          "base_uri": "https://localhost:8080/"
        },
        "id": "koxQEzCOtNDH",
        "outputId": "137561c2-4757-422f-a4e2-0e8a111e2d42"
      },
      "execution_count": null,
      "outputs": [
        {
          "output_type": "stream",
          "name": "stdout",
          "text": [
            "1.0\n",
            "5\n",
            "1\n",
            "6\n"
          ]
        }
      ]
    },
    {
      "cell_type": "code",
      "source": [
        "name:str=\"sir sohaib\"\n",
        "age:int=20\n",
        "isActive:bool=True\n",
        "print(name)\n",
        "print(age)"
      ],
      "metadata": {
        "colab": {
          "base_uri": "https://localhost:8080/"
        },
        "id": "tt2bRqputIc2",
        "outputId": "0d83a44d-eccb-4f83-ab1f-a3d777bdc55d"
      },
      "execution_count": null,
      "outputs": [
        {
          "output_type": "stream",
          "name": "stdout",
          "text": [
            "sir sohaib\n",
            "20\n"
          ]
        }
      ]
    },
    {
      "cell_type": "code",
      "source": [],
      "metadata": {
        "id": "Y-NngALYtDAo"
      },
      "execution_count": null,
      "outputs": []
    }
  ]
}