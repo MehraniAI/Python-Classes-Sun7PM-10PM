{
  "cells": [
    {
      "cell_type": "markdown",
      "metadata": {
        "id": "vP7Uek6eHPT8"
      },
      "source": [
        "#1 Arithmetic Operators:\n",
        "Arithmetic operators are used to perform mathematical operations.\n",
        "Addition\n",
        "Subtraction\n",
        "Multiplication\n",
        "Division\n",
        "Floor Division\n",
        "Modulus (Remainder)\n",
        "Exponentiation\n"
      ]
    },
    {
      "cell_type": "code",
      "execution_count": null,
      "metadata": {},
      "outputs": [],
      "source": []
    },
    {
      "cell_type": "code",
      "execution_count": null,
      "metadata": {
        "colab": {
          "base_uri": "https://localhost:8080/"
        },
        "id": "B9en60wbDtuO",
        "outputId": "44a61674-8683-4dbe-8d5f-cb19c9fea039"
      },
      "outputs": [
        {
          "name": "stdout",
          "output_type": "stream",
          "text": [
            "13\n",
            "7\n",
            "30\n",
            "3.3333333333333335\n",
            "1000\n"
          ]
        }
      ],
      "source": [
        "#1 Arithmetic Operators\n",
        "x=10\n",
        "y=3\n",
        "z=25\n",
        "print(x+y)\n",
        "print(x-y)\n",
        "print(x*y)\n",
        "print(x/y)\n",
        "print(x**y)\n",
        "print(xyz)\n"
      ]
    },
    {
      "cell_type": "markdown",
      "metadata": {
        "id": "E4x7qwhoHh-i"
      },
      "source": [
        "#2 Assignment Operators:\n",
        "Assignment operators are used to assign values to variables.\n",
        " =\tAssigns value\n",
        "+=\tAdd and assign\n",
        "-=\tSubtract and assign\n",
        "*=\tMultiply and assign\n",
        "/=\tDivide and assign\n",
        "//=\tFloor divide and assign\n",
        "%=\tModulus and assign\n",
        "**=\tExponentiate and assign\n"
      ]
    },
    {
      "cell_type": "code",
      "execution_count": null,
      "metadata": {
        "colab": {
          "base_uri": "https://localhost:8080/"
        },
        "id": "OdheOMIsJ1E6",
        "outputId": "789fad2e-a4b8-46ec-ec5e-c923cbaf5895"
      },
      "outputs": [
        {
          "name": "stdout",
          "output_type": "stream",
          "text": [
            "10\n",
            "10\n",
            "-10\n",
            "30\n",
            "3.3333333333333335\n",
            "3\n",
            "1\n",
            "1000\n",
            "200\n",
            "0.5\n",
            "10\n"
          ]
        }
      ],
      "source": [
        "x = 10\n",
        "y=10\n",
        "y += 10  # x = x + 5\n",
        "print(x)  # 15\n",
        "print(+x)\n",
        "print(-x)\n",
        "print(x*3)\n",
        "print(x/3)\n",
        "print(x//3)\n",
        "print(x%3)\n",
        "print(x**3)\n",
        "print(x*y)\n",
        "print(x/y)\n",
        "x -= 5  # x = x - 5\n",
        "x *= 2  # x = x * 2\n",
        "print(x)  # 30\n"
      ]
    },
    {
      "cell_type": "markdown",
      "metadata": {
        "id": "eSNryrneH3JN"
      },
      "source": [
        "#3 Comparison Operators:\n",
        "Comparison operators are used to compare two values.\n",
        "==\tEqual to\n",
        "!=\tNot equal to\n",
        ">      Greater than\n",
        "<\tLess than\n",
        ">=\tGreater than or equal to\n",
        "<=\tLess than or equal to\n"
      ]
    },
    {
      "cell_type": "code",
      "execution_count": null,
      "metadata": {
        "colab": {
          "base_uri": "https://localhost:8080/"
        },
        "id": "n_8b6m5FGZYB",
        "outputId": "0157a022-aa10-48a5-efb7-b18a39de4474"
      },
      "outputs": [
        {
          "name": "stdout",
          "output_type": "stream",
          "text": [
            "False\n",
            "True\n",
            "True\n",
            "False\n",
            "True\n"
          ]
        }
      ],
      "source": [
        "#3 Comparison Operators\n",
        "x=5\n",
        "y=3\n",
        "print(x==y)\n",
        "print(x!=y)\n",
        "print(x>y)\n",
        "print(x<y)\n",
        "print(x>=y)"
      ]
    },
    {
      "cell_type": "markdown",
      "metadata": {
        "id": "BgGUPWK0IByf"
      },
      "source": [
        "#4 Logical Operators:\n",
        "Logical operators are used to combine conditional statements.\n",
        "And  \n",
        "Or\n",
        "Not\n"
      ]
    },
    {
      "cell_type": "code",
      "execution_count": null,
      "metadata": {
        "colab": {
          "base_uri": "https://localhost:8080/"
        },
        "id": "dZWrkqMkGjiH",
        "outputId": "777f82f9-93a7-49df-9acd-3f5d004f43e3"
      },
      "outputs": [
        {
          "name": "stdout",
          "output_type": "stream",
          "text": [
            "True\n",
            "True\n",
            "False\n"
          ]
        }
      ],
      "source": [
        "#4 logical operators\n",
        "\n",
        "a=5\n",
        "b=3\n",
        "print((a>3)and(b<7))\n",
        "print((a>3)or(b>7))\n",
        "print(not(a>3))"
      ]
    }
  ],
  "metadata": {
    "colab": {
      "provenance": []
    },
    "kernelspec": {
      "display_name": "Python 3",
      "name": "python3"
    },
    "language_info": {
      "name": "python"
    }
  },
  "nbformat": 4,
  "nbformat_minor": 0
}
